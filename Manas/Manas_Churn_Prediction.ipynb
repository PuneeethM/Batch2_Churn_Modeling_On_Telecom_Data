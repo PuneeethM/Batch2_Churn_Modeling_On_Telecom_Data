{
 "cells": [
  {
   "cell_type": "code",
   "execution_count": 1,
   "id": "bead9f87-9ba8-446c-a896-1f1a2ce95c6a",
   "metadata": {},
   "outputs": [],
   "source": [
    "# import the libraries\n",
    "import numpy as np\n",
    "import pandas as pd\n",
    "import seaborn as sns\n",
    "import matplotlib.pyplot as plt\n",
    "\n",
    "from statsmodels.stats.outliers_influence import variance_inflation_factor\n",
    "from sklearn.model_selection import train_test_split, GridSearchCV, cross_val_score\n",
    "from sklearn.preprocessing import StandardScaler, LabelEncoder\n",
    "\n",
    "from sklearn.tree import DecisionTreeClassifier\n",
    "from sklearn.ensemble import RandomForestClassifier\n",
    "from sklearn.linear_model import LogisticRegression\n",
    "\n",
    "from sklearn.metrics import accuracy_score, classification_report, confusion_matrix, ConfusionMatrixDisplay"
   ]
  },
  {
   "cell_type": "code",
   "execution_count": 2,
   "id": "298bd2c8-d343-44a3-9286-49266ba00570",
   "metadata": {},
   "outputs": [],
   "source": [
    "# read the dataset\n",
    "df = pd.read_csv(\"Churn_ Data.csv\")"
   ]
  },
  {
   "cell_type": "code",
   "execution_count": 3,
   "id": "ebfbb59b-9458-488b-b32f-dcfb79c3afde",
   "metadata": {
    "scrolled": true
   },
   "outputs": [
    {
     "data": {
      "text/html": [
       "<div>\n",
       "<style scoped>\n",
       "    .dataframe tbody tr th:only-of-type {\n",
       "        vertical-align: middle;\n",
       "    }\n",
       "\n",
       "    .dataframe tbody tr th {\n",
       "        vertical-align: top;\n",
       "    }\n",
       "\n",
       "    .dataframe thead th {\n",
       "        text-align: right;\n",
       "    }\n",
       "</style>\n",
       "<table border=\"1\" class=\"dataframe\">\n",
       "  <thead>\n",
       "    <tr style=\"text-align: right;\">\n",
       "      <th></th>\n",
       "      <th>s6.new.rev.p2.m2</th>\n",
       "      <th>s1.new.rev.m1</th>\n",
       "      <th>s3.og.rev.4db.p5</th>\n",
       "      <th>s3.new.rev.4db.p5</th>\n",
       "      <th>s4.usg.ins.p2</th>\n",
       "      <th>s4.og.unq.any.p2</th>\n",
       "      <th>s2.rch.val.p6</th>\n",
       "      <th>s1.og.rev.all.m1</th>\n",
       "      <th>s8.new.rev.p6</th>\n",
       "      <th>s4.loc.ic.ins.p1</th>\n",
       "      <th>...</th>\n",
       "      <th>prop.og.mou.tot.mou.all.p6</th>\n",
       "      <th>prop.i2i.og.mou.p6</th>\n",
       "      <th>s4.loc.ic.ins.p2</th>\n",
       "      <th>s4.std.ic.ins.l14</th>\n",
       "      <th>s4.low.blnc.ins.p4</th>\n",
       "      <th>s3.og.rev.all.m2</th>\n",
       "      <th>s3.new.rev.m2</th>\n",
       "      <th>prop.og.mou.any.p6</th>\n",
       "      <th>prop.loc.i2i.mou.og.mou.p3</th>\n",
       "      <th>s3.rev.p1</th>\n",
       "    </tr>\n",
       "  </thead>\n",
       "  <tbody>\n",
       "    <tr>\n",
       "      <th>0</th>\n",
       "      <td>-0.76</td>\n",
       "      <td>88.0482</td>\n",
       "      <td>3.106604</td>\n",
       "      <td>3.754955</td>\n",
       "      <td>4</td>\n",
       "      <td>14</td>\n",
       "      <td>39.29</td>\n",
       "      <td>57.32</td>\n",
       "      <td>-0.17</td>\n",
       "      <td>1</td>\n",
       "      <td>...</td>\n",
       "      <td>0.454642</td>\n",
       "      <td>0.497397</td>\n",
       "      <td>4</td>\n",
       "      <td>0</td>\n",
       "      <td>9</td>\n",
       "      <td>6.02</td>\n",
       "      <td>8.20</td>\n",
       "      <td>46.465636</td>\n",
       "      <td>0.609456</td>\n",
       "      <td>0.22</td>\n",
       "    </tr>\n",
       "    <tr>\n",
       "      <th>1</th>\n",
       "      <td>-0.98</td>\n",
       "      <td>67.5039</td>\n",
       "      <td>3.094574</td>\n",
       "      <td>5.550865</td>\n",
       "      <td>1</td>\n",
       "      <td>2</td>\n",
       "      <td>21.67</td>\n",
       "      <td>38.70</td>\n",
       "      <td>-0.32</td>\n",
       "      <td>3</td>\n",
       "      <td>...</td>\n",
       "      <td>0.343190</td>\n",
       "      <td>0.767617</td>\n",
       "      <td>6</td>\n",
       "      <td>0</td>\n",
       "      <td>20</td>\n",
       "      <td>3.66</td>\n",
       "      <td>8.10</td>\n",
       "      <td>34.525456</td>\n",
       "      <td>1.000000</td>\n",
       "      <td>0.38</td>\n",
       "    </tr>\n",
       "    <tr>\n",
       "      <th>2</th>\n",
       "      <td>-0.98</td>\n",
       "      <td>33.9248</td>\n",
       "      <td>2.324016</td>\n",
       "      <td>2.438114</td>\n",
       "      <td>2</td>\n",
       "      <td>3</td>\n",
       "      <td>30.00</td>\n",
       "      <td>15.32</td>\n",
       "      <td>-0.05</td>\n",
       "      <td>3</td>\n",
       "      <td>...</td>\n",
       "      <td>0.101838</td>\n",
       "      <td>0.619034</td>\n",
       "      <td>6</td>\n",
       "      <td>1</td>\n",
       "      <td>19</td>\n",
       "      <td>4.33</td>\n",
       "      <td>4.36</td>\n",
       "      <td>10.298451</td>\n",
       "      <td>0.699592</td>\n",
       "      <td>0.11</td>\n",
       "    </tr>\n",
       "  </tbody>\n",
       "</table>\n",
       "<p>3 rows × 111 columns</p>\n",
       "</div>"
      ],
      "text/plain": [
       "   s6.new.rev.p2.m2  s1.new.rev.m1  s3.og.rev.4db.p5  s3.new.rev.4db.p5  \\\n",
       "0             -0.76        88.0482          3.106604           3.754955   \n",
       "1             -0.98        67.5039          3.094574           5.550865   \n",
       "2             -0.98        33.9248          2.324016           2.438114   \n",
       "\n",
       "   s4.usg.ins.p2  s4.og.unq.any.p2  s2.rch.val.p6  s1.og.rev.all.m1  \\\n",
       "0              4                14          39.29             57.32   \n",
       "1              1                 2          21.67             38.70   \n",
       "2              2                 3          30.00             15.32   \n",
       "\n",
       "   s8.new.rev.p6  s4.loc.ic.ins.p1  ...  prop.og.mou.tot.mou.all.p6  \\\n",
       "0          -0.17                 1  ...                    0.454642   \n",
       "1          -0.32                 3  ...                    0.343190   \n",
       "2          -0.05                 3  ...                    0.101838   \n",
       "\n",
       "   prop.i2i.og.mou.p6  s4.loc.ic.ins.p2  s4.std.ic.ins.l14  \\\n",
       "0            0.497397                 4                  0   \n",
       "1            0.767617                 6                  0   \n",
       "2            0.619034                 6                  1   \n",
       "\n",
       "   s4.low.blnc.ins.p4  s3.og.rev.all.m2  s3.new.rev.m2  prop.og.mou.any.p6  \\\n",
       "0                   9              6.02           8.20           46.465636   \n",
       "1                  20              3.66           8.10           34.525456   \n",
       "2                  19              4.33           4.36           10.298451   \n",
       "\n",
       "   prop.loc.i2i.mou.og.mou.p3  s3.rev.p1  \n",
       "0                    0.609456       0.22  \n",
       "1                    1.000000       0.38  \n",
       "2                    0.699592       0.11  \n",
       "\n",
       "[3 rows x 111 columns]"
      ]
     },
     "execution_count": 3,
     "metadata": {},
     "output_type": "execute_result"
    }
   ],
   "source": [
    "# first 3 rows\n",
    "df.head(3)"
   ]
  },
  {
   "cell_type": "code",
   "execution_count": 4,
   "id": "939d2635-ea86-43f0-87e0-2f7b9cc6a5b7",
   "metadata": {
    "scrolled": true
   },
   "outputs": [
    {
     "data": {
      "text/html": [
       "<div>\n",
       "<style scoped>\n",
       "    .dataframe tbody tr th:only-of-type {\n",
       "        vertical-align: middle;\n",
       "    }\n",
       "\n",
       "    .dataframe tbody tr th {\n",
       "        vertical-align: top;\n",
       "    }\n",
       "\n",
       "    .dataframe thead th {\n",
       "        text-align: right;\n",
       "    }\n",
       "</style>\n",
       "<table border=\"1\" class=\"dataframe\">\n",
       "  <thead>\n",
       "    <tr style=\"text-align: right;\">\n",
       "      <th></th>\n",
       "      <th>s6.new.rev.p2.m2</th>\n",
       "      <th>s1.new.rev.m1</th>\n",
       "      <th>s3.og.rev.4db.p5</th>\n",
       "      <th>s3.new.rev.4db.p5</th>\n",
       "      <th>s4.usg.ins.p2</th>\n",
       "      <th>s4.og.unq.any.p2</th>\n",
       "      <th>s2.rch.val.p6</th>\n",
       "      <th>s1.og.rev.all.m1</th>\n",
       "      <th>s8.new.rev.p6</th>\n",
       "      <th>s4.loc.ic.ins.p1</th>\n",
       "      <th>...</th>\n",
       "      <th>prop.og.mou.tot.mou.all.p6</th>\n",
       "      <th>prop.i2i.og.mou.p6</th>\n",
       "      <th>s4.loc.ic.ins.p2</th>\n",
       "      <th>s4.std.ic.ins.l14</th>\n",
       "      <th>s4.low.blnc.ins.p4</th>\n",
       "      <th>s3.og.rev.all.m2</th>\n",
       "      <th>s3.new.rev.m2</th>\n",
       "      <th>prop.og.mou.any.p6</th>\n",
       "      <th>prop.loc.i2i.mou.og.mou.p3</th>\n",
       "      <th>s3.rev.p1</th>\n",
       "    </tr>\n",
       "  </thead>\n",
       "  <tbody>\n",
       "    <tr>\n",
       "      <th>24997</th>\n",
       "      <td>0.01</td>\n",
       "      <td>148.8337</td>\n",
       "      <td>3.823940</td>\n",
       "      <td>4.334250</td>\n",
       "      <td>6</td>\n",
       "      <td>10</td>\n",
       "      <td>10.00</td>\n",
       "      <td>98.900</td>\n",
       "      <td>-0.03</td>\n",
       "      <td>2</td>\n",
       "      <td>...</td>\n",
       "      <td>0.327245</td>\n",
       "      <td>0.407944</td>\n",
       "      <td>3</td>\n",
       "      <td>0</td>\n",
       "      <td>12</td>\n",
       "      <td>6.63</td>\n",
       "      <td>7.48</td>\n",
       "      <td>33.222018</td>\n",
       "      <td>0.235918</td>\n",
       "      <td>8.07</td>\n",
       "    </tr>\n",
       "    <tr>\n",
       "      <th>24998</th>\n",
       "      <td>0.17</td>\n",
       "      <td>1012.4398</td>\n",
       "      <td>14.667580</td>\n",
       "      <td>14.579567</td>\n",
       "      <td>7</td>\n",
       "      <td>67</td>\n",
       "      <td>42.92</td>\n",
       "      <td>734.005</td>\n",
       "      <td>0.70</td>\n",
       "      <td>4</td>\n",
       "      <td>...</td>\n",
       "      <td>0.824671</td>\n",
       "      <td>0.889239</td>\n",
       "      <td>7</td>\n",
       "      <td>1</td>\n",
       "      <td>1</td>\n",
       "      <td>19.36</td>\n",
       "      <td>22.26</td>\n",
       "      <td>82.549378</td>\n",
       "      <td>0.952962</td>\n",
       "      <td>21.21</td>\n",
       "    </tr>\n",
       "    <tr>\n",
       "      <th>24999</th>\n",
       "      <td>-1.00</td>\n",
       "      <td>275.3530</td>\n",
       "      <td>5.134579</td>\n",
       "      <td>5.954062</td>\n",
       "      <td>1</td>\n",
       "      <td>1</td>\n",
       "      <td>53.50</td>\n",
       "      <td>250.340</td>\n",
       "      <td>-0.48</td>\n",
       "      <td>4</td>\n",
       "      <td>...</td>\n",
       "      <td>0.377281</td>\n",
       "      <td>0.609046</td>\n",
       "      <td>7</td>\n",
       "      <td>0</td>\n",
       "      <td>18</td>\n",
       "      <td>5.42</td>\n",
       "      <td>8.02</td>\n",
       "      <td>38.590040</td>\n",
       "      <td>1.000000</td>\n",
       "      <td>0.00</td>\n",
       "    </tr>\n",
       "  </tbody>\n",
       "</table>\n",
       "<p>3 rows × 111 columns</p>\n",
       "</div>"
      ],
      "text/plain": [
       "       s6.new.rev.p2.m2  s1.new.rev.m1  s3.og.rev.4db.p5  s3.new.rev.4db.p5  \\\n",
       "24997              0.01       148.8337          3.823940           4.334250   \n",
       "24998              0.17      1012.4398         14.667580          14.579567   \n",
       "24999             -1.00       275.3530          5.134579           5.954062   \n",
       "\n",
       "       s4.usg.ins.p2  s4.og.unq.any.p2  s2.rch.val.p6  s1.og.rev.all.m1  \\\n",
       "24997              6                10          10.00            98.900   \n",
       "24998              7                67          42.92           734.005   \n",
       "24999              1                 1          53.50           250.340   \n",
       "\n",
       "       s8.new.rev.p6  s4.loc.ic.ins.p1  ...  prop.og.mou.tot.mou.all.p6  \\\n",
       "24997          -0.03                 2  ...                    0.327245   \n",
       "24998           0.70                 4  ...                    0.824671   \n",
       "24999          -0.48                 4  ...                    0.377281   \n",
       "\n",
       "       prop.i2i.og.mou.p6  s4.loc.ic.ins.p2  s4.std.ic.ins.l14  \\\n",
       "24997            0.407944                 3                  0   \n",
       "24998            0.889239                 7                  1   \n",
       "24999            0.609046                 7                  0   \n",
       "\n",
       "       s4.low.blnc.ins.p4  s3.og.rev.all.m2  s3.new.rev.m2  \\\n",
       "24997                  12              6.63           7.48   \n",
       "24998                   1             19.36          22.26   \n",
       "24999                  18              5.42           8.02   \n",
       "\n",
       "       prop.og.mou.any.p6  prop.loc.i2i.mou.og.mou.p3  s3.rev.p1  \n",
       "24997           33.222018                    0.235918       8.07  \n",
       "24998           82.549378                    0.952962      21.21  \n",
       "24999           38.590040                    1.000000       0.00  \n",
       "\n",
       "[3 rows x 111 columns]"
      ]
     },
     "execution_count": 4,
     "metadata": {},
     "output_type": "execute_result"
    }
   ],
   "source": [
    "# last 3 rows\n",
    "df.tail(3)"
   ]
  },
  {
   "cell_type": "code",
   "execution_count": 5,
   "id": "2e26e9bc-262e-41d8-a304-26ffe21bc0cf",
   "metadata": {},
   "outputs": [
    {
     "data": {
      "text/html": [
       "<div>\n",
       "<style scoped>\n",
       "    .dataframe tbody tr th:only-of-type {\n",
       "        vertical-align: middle;\n",
       "    }\n",
       "\n",
       "    .dataframe tbody tr th {\n",
       "        vertical-align: top;\n",
       "    }\n",
       "\n",
       "    .dataframe thead th {\n",
       "        text-align: right;\n",
       "    }\n",
       "</style>\n",
       "<table border=\"1\" class=\"dataframe\">\n",
       "  <thead>\n",
       "    <tr style=\"text-align: right;\">\n",
       "      <th></th>\n",
       "      <th>s6.new.rev.p2.m2</th>\n",
       "      <th>s1.new.rev.m1</th>\n",
       "      <th>s3.og.rev.4db.p5</th>\n",
       "      <th>s3.new.rev.4db.p5</th>\n",
       "      <th>s4.usg.ins.p2</th>\n",
       "      <th>s4.og.unq.any.p2</th>\n",
       "      <th>s2.rch.val.p6</th>\n",
       "      <th>s1.og.rev.all.m1</th>\n",
       "      <th>s8.new.rev.p6</th>\n",
       "      <th>s4.loc.ic.ins.p1</th>\n",
       "      <th>...</th>\n",
       "      <th>prop.og.mou.tot.mou.all.p6</th>\n",
       "      <th>prop.i2i.og.mou.p6</th>\n",
       "      <th>s4.loc.ic.ins.p2</th>\n",
       "      <th>s4.std.ic.ins.l14</th>\n",
       "      <th>s4.low.blnc.ins.p4</th>\n",
       "      <th>s3.og.rev.all.m2</th>\n",
       "      <th>s3.new.rev.m2</th>\n",
       "      <th>prop.og.mou.any.p6</th>\n",
       "      <th>prop.loc.i2i.mou.og.mou.p3</th>\n",
       "      <th>s3.rev.p1</th>\n",
       "    </tr>\n",
       "  </thead>\n",
       "  <tbody>\n",
       "    <tr>\n",
       "      <th>count</th>\n",
       "      <td>25000.000000</td>\n",
       "      <td>25000.000000</td>\n",
       "      <td>25000.000000</td>\n",
       "      <td>25000.000000</td>\n",
       "      <td>25000.000000</td>\n",
       "      <td>25000.000000</td>\n",
       "      <td>25000.000000</td>\n",
       "      <td>25000.000000</td>\n",
       "      <td>25000.000000</td>\n",
       "      <td>25000.000000</td>\n",
       "      <td>...</td>\n",
       "      <td>25000.000000</td>\n",
       "      <td>25000.000000</td>\n",
       "      <td>25000.000000</td>\n",
       "      <td>25000.000000</td>\n",
       "      <td>25000.000000</td>\n",
       "      <td>25000.000000</td>\n",
       "      <td>25000.000000</td>\n",
       "      <td>25000.000000</td>\n",
       "      <td>25000.000000</td>\n",
       "      <td>25000.000000</td>\n",
       "    </tr>\n",
       "    <tr>\n",
       "      <th>mean</th>\n",
       "      <td>-0.003730</td>\n",
       "      <td>281.073083</td>\n",
       "      <td>4.890003</td>\n",
       "      <td>7.070194</td>\n",
       "      <td>5.460080</td>\n",
       "      <td>28.532520</td>\n",
       "      <td>72.208906</td>\n",
       "      <td>218.517937</td>\n",
       "      <td>-0.028327</td>\n",
       "      <td>3.254720</td>\n",
       "      <td>...</td>\n",
       "      <td>0.538407</td>\n",
       "      <td>0.485523</td>\n",
       "      <td>5.731280</td>\n",
       "      <td>1.797320</td>\n",
       "      <td>8.382160</td>\n",
       "      <td>8.008660</td>\n",
       "      <td>12.540182</td>\n",
       "      <td>53.594165</td>\n",
       "      <td>0.483975</td>\n",
       "      <td>9.951366</td>\n",
       "    </tr>\n",
       "    <tr>\n",
       "      <th>std</th>\n",
       "      <td>2.727916</td>\n",
       "      <td>276.075983</td>\n",
       "      <td>4.212452</td>\n",
       "      <td>6.318992</td>\n",
       "      <td>2.184444</td>\n",
       "      <td>28.061435</td>\n",
       "      <td>67.921490</td>\n",
       "      <td>231.321064</td>\n",
       "      <td>0.354573</td>\n",
       "      <td>1.193271</td>\n",
       "      <td>...</td>\n",
       "      <td>0.209203</td>\n",
       "      <td>0.271146</td>\n",
       "      <td>1.936848</td>\n",
       "      <td>3.048943</td>\n",
       "      <td>8.961016</td>\n",
       "      <td>6.152429</td>\n",
       "      <td>11.540611</td>\n",
       "      <td>21.408486</td>\n",
       "      <td>0.292349</td>\n",
       "      <td>17.648128</td>\n",
       "    </tr>\n",
       "    <tr>\n",
       "      <th>min</th>\n",
       "      <td>-1.000000</td>\n",
       "      <td>0.000000</td>\n",
       "      <td>0.000000</td>\n",
       "      <td>0.000833</td>\n",
       "      <td>0.000000</td>\n",
       "      <td>0.000000</td>\n",
       "      <td>0.000000</td>\n",
       "      <td>0.000000</td>\n",
       "      <td>-5.090000</td>\n",
       "      <td>0.000000</td>\n",
       "      <td>...</td>\n",
       "      <td>0.000000</td>\n",
       "      <td>0.000000</td>\n",
       "      <td>0.000000</td>\n",
       "      <td>0.000000</td>\n",
       "      <td>0.000000</td>\n",
       "      <td>0.000000</td>\n",
       "      <td>0.000000</td>\n",
       "      <td>0.000000</td>\n",
       "      <td>0.000000</td>\n",
       "      <td>0.000000</td>\n",
       "    </tr>\n",
       "    <tr>\n",
       "      <th>25%</th>\n",
       "      <td>-0.580000</td>\n",
       "      <td>101.563800</td>\n",
       "      <td>2.367288</td>\n",
       "      <td>3.318825</td>\n",
       "      <td>5.000000</td>\n",
       "      <td>9.000000</td>\n",
       "      <td>33.000000</td>\n",
       "      <td>74.420000</td>\n",
       "      <td>-0.160000</td>\n",
       "      <td>3.000000</td>\n",
       "      <td>...</td>\n",
       "      <td>0.394227</td>\n",
       "      <td>0.274034</td>\n",
       "      <td>5.000000</td>\n",
       "      <td>0.000000</td>\n",
       "      <td>1.000000</td>\n",
       "      <td>4.207500</td>\n",
       "      <td>6.167500</td>\n",
       "      <td>39.378142</td>\n",
       "      <td>0.251304</td>\n",
       "      <td>1.970000</td>\n",
       "    </tr>\n",
       "    <tr>\n",
       "      <th>50%</th>\n",
       "      <td>-0.170000</td>\n",
       "      <td>204.859600</td>\n",
       "      <td>3.729944</td>\n",
       "      <td>5.231268</td>\n",
       "      <td>7.000000</td>\n",
       "      <td>21.000000</td>\n",
       "      <td>52.260000</td>\n",
       "      <td>151.168500</td>\n",
       "      <td>-0.020000</td>\n",
       "      <td>4.000000</td>\n",
       "      <td>...</td>\n",
       "      <td>0.539354</td>\n",
       "      <td>0.476759</td>\n",
       "      <td>7.000000</td>\n",
       "      <td>0.000000</td>\n",
       "      <td>5.000000</td>\n",
       "      <td>6.345000</td>\n",
       "      <td>9.350000</td>\n",
       "      <td>53.976203</td>\n",
       "      <td>0.477621</td>\n",
       "      <td>5.380000</td>\n",
       "    </tr>\n",
       "    <tr>\n",
       "      <th>75%</th>\n",
       "      <td>0.280000</td>\n",
       "      <td>370.711650</td>\n",
       "      <td>5.993342</td>\n",
       "      <td>8.395736</td>\n",
       "      <td>7.000000</td>\n",
       "      <td>39.000000</td>\n",
       "      <td>89.852500</td>\n",
       "      <td>284.265000</td>\n",
       "      <td>0.110000</td>\n",
       "      <td>4.000000</td>\n",
       "      <td>...</td>\n",
       "      <td>0.682695</td>\n",
       "      <td>0.694104</td>\n",
       "      <td>7.000000</td>\n",
       "      <td>2.000000</td>\n",
       "      <td>14.000000</td>\n",
       "      <td>9.830000</td>\n",
       "      <td>14.620000</td>\n",
       "      <td>68.312416</td>\n",
       "      <td>0.716538</td>\n",
       "      <td>11.400000</td>\n",
       "    </tr>\n",
       "    <tr>\n",
       "      <th>max</th>\n",
       "      <td>316.860000</td>\n",
       "      <td>5702.924300</td>\n",
       "      <td>153.221695</td>\n",
       "      <td>170.200441</td>\n",
       "      <td>7.000000</td>\n",
       "      <td>622.000000</td>\n",
       "      <td>2249.000000</td>\n",
       "      <td>3767.565000</td>\n",
       "      <td>5.000000</td>\n",
       "      <td>4.000000</td>\n",
       "      <td>...</td>\n",
       "      <td>1.000000</td>\n",
       "      <td>1.000000</td>\n",
       "      <td>7.000000</td>\n",
       "      <td>14.000000</td>\n",
       "      <td>30.000000</td>\n",
       "      <td>171.780000</td>\n",
       "      <td>386.480000</td>\n",
       "      <td>100.000000</td>\n",
       "      <td>1.000000</td>\n",
       "      <td>585.500000</td>\n",
       "    </tr>\n",
       "  </tbody>\n",
       "</table>\n",
       "<p>8 rows × 111 columns</p>\n",
       "</div>"
      ],
      "text/plain": [
       "       s6.new.rev.p2.m2  s1.new.rev.m1  s3.og.rev.4db.p5  s3.new.rev.4db.p5  \\\n",
       "count      25000.000000   25000.000000      25000.000000       25000.000000   \n",
       "mean          -0.003730     281.073083          4.890003           7.070194   \n",
       "std            2.727916     276.075983          4.212452           6.318992   \n",
       "min           -1.000000       0.000000          0.000000           0.000833   \n",
       "25%           -0.580000     101.563800          2.367288           3.318825   \n",
       "50%           -0.170000     204.859600          3.729944           5.231268   \n",
       "75%            0.280000     370.711650          5.993342           8.395736   \n",
       "max          316.860000    5702.924300        153.221695         170.200441   \n",
       "\n",
       "       s4.usg.ins.p2  s4.og.unq.any.p2  s2.rch.val.p6  s1.og.rev.all.m1  \\\n",
       "count   25000.000000      25000.000000   25000.000000      25000.000000   \n",
       "mean        5.460080         28.532520      72.208906        218.517937   \n",
       "std         2.184444         28.061435      67.921490        231.321064   \n",
       "min         0.000000          0.000000       0.000000          0.000000   \n",
       "25%         5.000000          9.000000      33.000000         74.420000   \n",
       "50%         7.000000         21.000000      52.260000        151.168500   \n",
       "75%         7.000000         39.000000      89.852500        284.265000   \n",
       "max         7.000000        622.000000    2249.000000       3767.565000   \n",
       "\n",
       "       s8.new.rev.p6  s4.loc.ic.ins.p1  ...  prop.og.mou.tot.mou.all.p6  \\\n",
       "count   25000.000000      25000.000000  ...                25000.000000   \n",
       "mean       -0.028327          3.254720  ...                    0.538407   \n",
       "std         0.354573          1.193271  ...                    0.209203   \n",
       "min        -5.090000          0.000000  ...                    0.000000   \n",
       "25%        -0.160000          3.000000  ...                    0.394227   \n",
       "50%        -0.020000          4.000000  ...                    0.539354   \n",
       "75%         0.110000          4.000000  ...                    0.682695   \n",
       "max         5.000000          4.000000  ...                    1.000000   \n",
       "\n",
       "       prop.i2i.og.mou.p6  s4.loc.ic.ins.p2  s4.std.ic.ins.l14  \\\n",
       "count        25000.000000      25000.000000       25000.000000   \n",
       "mean             0.485523          5.731280           1.797320   \n",
       "std              0.271146          1.936848           3.048943   \n",
       "min              0.000000          0.000000           0.000000   \n",
       "25%              0.274034          5.000000           0.000000   \n",
       "50%              0.476759          7.000000           0.000000   \n",
       "75%              0.694104          7.000000           2.000000   \n",
       "max              1.000000          7.000000          14.000000   \n",
       "\n",
       "       s4.low.blnc.ins.p4  s3.og.rev.all.m2  s3.new.rev.m2  \\\n",
       "count        25000.000000      25000.000000   25000.000000   \n",
       "mean             8.382160          8.008660      12.540182   \n",
       "std              8.961016          6.152429      11.540611   \n",
       "min              0.000000          0.000000       0.000000   \n",
       "25%              1.000000          4.207500       6.167500   \n",
       "50%              5.000000          6.345000       9.350000   \n",
       "75%             14.000000          9.830000      14.620000   \n",
       "max             30.000000        171.780000     386.480000   \n",
       "\n",
       "       prop.og.mou.any.p6  prop.loc.i2i.mou.og.mou.p3     s3.rev.p1  \n",
       "count        25000.000000                25000.000000  25000.000000  \n",
       "mean            53.594165                    0.483975      9.951366  \n",
       "std             21.408486                    0.292349     17.648128  \n",
       "min              0.000000                    0.000000      0.000000  \n",
       "25%             39.378142                    0.251304      1.970000  \n",
       "50%             53.976203                    0.477621      5.380000  \n",
       "75%             68.312416                    0.716538     11.400000  \n",
       "max            100.000000                    1.000000    585.500000  \n",
       "\n",
       "[8 rows x 111 columns]"
      ]
     },
     "execution_count": 5,
     "metadata": {},
     "output_type": "execute_result"
    }
   ],
   "source": [
    "df.describe(include='all')"
   ]
  },
  {
   "cell_type": "markdown",
   "id": "3baa3a0d-b4a5-4212-9d2f-0583af43be01",
   "metadata": {},
   "source": [
    "### Data Preprocessing"
   ]
  },
  {
   "cell_type": "code",
   "execution_count": 6,
   "id": "776175ca-8ef1-4a05-bdeb-27e9c2a0bf5c",
   "metadata": {},
   "outputs": [
    {
     "data": {
      "text/plain": [
       "(25000, 111)"
      ]
     },
     "execution_count": 6,
     "metadata": {},
     "output_type": "execute_result"
    }
   ],
   "source": [
    "# checking the dataset shape\n",
    "df.shape"
   ]
  },
  {
   "cell_type": "code",
   "execution_count": 7,
   "id": "a98460b5-d50b-4854-8e40-8955f7e0e365",
   "metadata": {},
   "outputs": [
    {
     "data": {
      "text/plain": [
       "float64    80\n",
       "int64      31\n",
       "Name: count, dtype: int64"
      ]
     },
     "execution_count": 7,
     "metadata": {},
     "output_type": "execute_result"
    }
   ],
   "source": [
    "# Checking data types\n",
    "df.dtypes.value_counts()"
   ]
  },
  {
   "cell_type": "code",
   "execution_count": 8,
   "id": "aae9b921-d39a-4099-91be-910dffe0fea5",
   "metadata": {
    "scrolled": true
   },
   "outputs": [
    {
     "data": {
      "text/plain": [
       "s6.new.rev.p2.m2              float64\n",
       "s1.new.rev.m1                 float64\n",
       "s3.og.rev.4db.p5              float64\n",
       "s3.new.rev.4db.p5             float64\n",
       "s4.usg.ins.p2                   int64\n",
       "                               ...   \n",
       "s3.og.rev.all.m2              float64\n",
       "s3.new.rev.m2                 float64\n",
       "prop.og.mou.any.p6            float64\n",
       "prop.loc.i2i.mou.og.mou.p3    float64\n",
       "s3.rev.p1                     float64\n",
       "Length: 111, dtype: object"
      ]
     },
     "execution_count": 8,
     "metadata": {},
     "output_type": "execute_result"
    }
   ],
   "source": [
    "# checking the datatypes\n",
    "df.dtypes"
   ]
  },
  {
   "cell_type": "code",
   "execution_count": 9,
   "id": "d96ad3d6-7ecc-4796-b338-3e7146c83bae",
   "metadata": {},
   "outputs": [
    {
     "name": "stdout",
     "output_type": "stream",
     "text": [
      "<class 'pandas.core.frame.DataFrame'>\n",
      "RangeIndex: 25000 entries, 0 to 24999\n",
      "Columns: 111 entries, s6.new.rev.p2.m2 to s3.rev.p1\n",
      "dtypes: float64(80), int64(31)\n",
      "memory usage: 21.2 MB\n"
     ]
    }
   ],
   "source": [
    "df.info()"
   ]
  },
  {
   "cell_type": "markdown",
   "id": "9b2581ef-3762-4768-a651-5303afa10508",
   "metadata": {},
   "source": [
    "#### Checking & removing the duplicate records"
   ]
  },
  {
   "cell_type": "code",
   "execution_count": 10,
   "id": "c47fd36e-ba27-46bf-a99b-23423e25d215",
   "metadata": {},
   "outputs": [
    {
     "data": {
      "text/plain": [
       "0"
      ]
     },
     "execution_count": 10,
     "metadata": {},
     "output_type": "execute_result"
    }
   ],
   "source": [
    "duplicate_records = df.duplicated().sum()\n",
    "duplicate_records"
   ]
  },
  {
   "cell_type": "code",
   "execution_count": 11,
   "id": "0f1564de-9acd-426e-966a-511a14c522f1",
   "metadata": {},
   "outputs": [
    {
     "data": {
      "text/plain": [
       "(25000, 111)"
      ]
     },
     "execution_count": 11,
     "metadata": {},
     "output_type": "execute_result"
    }
   ],
   "source": [
    "df.shape"
   ]
  },
  {
   "cell_type": "markdown",
   "id": "dc5354d1-a009-4823-91d0-f99a52f454a2",
   "metadata": {},
   "source": [
    "#### Identifying & removing nonunique value variable"
   ]
  },
  {
   "cell_type": "code",
   "execution_count": 12,
   "id": "8af2f5ec-fd94-490e-b1ee-6ad59a9c7494",
   "metadata": {},
   "outputs": [
    {
     "name": "stdout",
     "output_type": "stream",
     "text": [
      "Columns with unique values: []\n"
     ]
    }
   ],
   "source": [
    "nonunique_value_columns = [columns for columns in df.columns if df[columns].nunique() == 1]\n",
    "print(\"Columns with unique values:\", nonunique_value_columns)"
   ]
  },
  {
   "cell_type": "code",
   "execution_count": 13,
   "id": "191baa87-2067-4079-b997-f011c210a934",
   "metadata": {},
   "outputs": [
    {
     "data": {
      "text/plain": [
       "(25000, 111)"
      ]
     },
     "execution_count": 13,
     "metadata": {},
     "output_type": "execute_result"
    }
   ],
   "source": [
    "df.shape"
   ]
  },
  {
   "cell_type": "markdown",
   "id": "4d404a30-8bba-4763-8104-b3c335d4c094",
   "metadata": {},
   "source": [
    "#### Identifying columns with zero variance"
   ]
  },
  {
   "cell_type": "code",
   "execution_count": 14,
   "id": "a256df26-8dc7-4536-a0a5-5464a5f0e07c",
   "metadata": {},
   "outputs": [
    {
     "name": "stdout",
     "output_type": "stream",
     "text": [
      "Columns with zero variance: []\n"
     ]
    }
   ],
   "source": [
    "zero_variance_columns = [columns for columns in df.columns if df[columns].var() == 0]\n",
    "print(\"Columns with zero variance:\", zero_variance_columns)"
   ]
  },
  {
   "cell_type": "code",
   "execution_count": 15,
   "id": "fef848f2-8e97-4086-b439-ae1ed13af36c",
   "metadata": {},
   "outputs": [
    {
     "data": {
      "text/plain": [
       "(25000, 111)"
      ]
     },
     "execution_count": 15,
     "metadata": {},
     "output_type": "execute_result"
    }
   ],
   "source": [
    "df.shape"
   ]
  },
  {
   "cell_type": "markdown",
   "id": "085f78b2-e118-4ad8-88da-b4e2278fafda",
   "metadata": {},
   "source": [
    "#### Outlier Treatment"
   ]
  },
  {
   "cell_type": "markdown",
   "id": "25135080-59d4-457b-b773-05d488aaf778",
   "metadata": {},
   "source": [
    "#### Using Boxplot: Q3+(1.5 * IQR) & Q1-(1.5 * IQR)"
   ]
  },
  {
   "cell_type": "code",
   "execution_count": 16,
   "id": "49a1c3d0-59ea-4fbf-850e-4be169a3e35a",
   "metadata": {},
   "outputs": [
    {
     "name": "stdout",
     "output_type": "stream",
     "text": [
      "Identified Outliers using IQR Method:\n",
      "(5032, 111)\n"
     ]
    }
   ],
   "source": [
    "df_copy = df.copy()\n",
    "Q1 = df_copy.quantile(0.25)\n",
    "Q3 = df_copy.quantile(0.75)\n",
    "IQR = Q3 - Q1\n",
    "lower_bound = Q1 - 1.5 * IQR\n",
    "upper_bound = Q3 + 1.5 * IQR\n",
    "# Filtering out the outliers\n",
    "outliers_removed = df_copy[~((df_copy < lower_bound) | (df_copy > upper_bound)).any(axis=1)]\n",
    "# Print the results\n",
    "print(\"Identified Outliers using IQR Method:\")\n",
    "print(outliers_removed.shape)"
   ]
  },
  {
   "cell_type": "code",
   "execution_count": 17,
   "id": "c6e05151-638f-459f-9995-617e29abe249",
   "metadata": {},
   "outputs": [],
   "source": [
    "df_copy = outliers_removed"
   ]
  },
  {
   "cell_type": "code",
   "execution_count": 18,
   "id": "40f72c1d-52df-4731-8eee-d663c7c1cc50",
   "metadata": {},
   "outputs": [
    {
     "data": {
      "text/plain": [
       "(5032, 111)"
      ]
     },
     "execution_count": 18,
     "metadata": {},
     "output_type": "execute_result"
    }
   ],
   "source": [
    "df_copy.shape"
   ]
  },
  {
   "cell_type": "code",
   "execution_count": 19,
   "id": "bd0c564f-02b0-45cf-9e1a-98f087d8e361",
   "metadata": {},
   "outputs": [
    {
     "data": {
      "text/plain": [
       "(25000, 111)"
      ]
     },
     "execution_count": 19,
     "metadata": {},
     "output_type": "execute_result"
    }
   ],
   "source": [
    "df.shape"
   ]
  },
  {
   "cell_type": "markdown",
   "id": "c7b9f780-a60c-43c5-8c49-76be3a3c092c",
   "metadata": {},
   "source": [
    "#### Standardization: ±3σ Approach"
   ]
  },
  {
   "cell_type": "code",
   "execution_count": 20,
   "id": "8f9a781b-4245-42f9-8b07-920b391a7e5e",
   "metadata": {},
   "outputs": [
    {
     "name": "stdout",
     "output_type": "stream",
     "text": [
      "Shape of data after standardization: (17612, 111)\n"
     ]
    }
   ],
   "source": [
    "df_copy1 = df.copy()\n",
    "mean = df_copy1.mean()\n",
    "std = df_copy1.std()\n",
    "# Filtering out the outliers\n",
    "standardized_data = df_copy1[(df_copy1 - mean).abs() <= 3 * std].dropna()\n",
    "print(f\"Shape of data after standardization: {standardized_data.shape}\")"
   ]
  },
  {
   "cell_type": "code",
   "execution_count": 21,
   "id": "b4677550-e5bf-4a14-979e-897884f654cd",
   "metadata": {},
   "outputs": [],
   "source": [
    "df1_copy = standardized_data"
   ]
  },
  {
   "cell_type": "code",
   "execution_count": 22,
   "id": "3a84f87f-ca60-44c4-b7fc-53d637ce36b4",
   "metadata": {},
   "outputs": [
    {
     "data": {
      "text/plain": [
       "(17612, 111)"
      ]
     },
     "execution_count": 22,
     "metadata": {},
     "output_type": "execute_result"
    }
   ],
   "source": [
    "df1_copy.shape"
   ]
  },
  {
   "cell_type": "code",
   "execution_count": 23,
   "id": "8b2443fa-6053-4853-8ed3-cbd9391af0ae",
   "metadata": {},
   "outputs": [
    {
     "data": {
      "text/plain": [
       "(25000, 111)"
      ]
     },
     "execution_count": 23,
     "metadata": {},
     "output_type": "execute_result"
    }
   ],
   "source": [
    "df.shape"
   ]
  },
  {
   "cell_type": "markdown",
   "id": "98b4d004-cbe5-4c79-868d-3e1191e2f1ae",
   "metadata": {},
   "source": [
    "#### Capping and flooring the outliers"
   ]
  },
  {
   "cell_type": "code",
   "execution_count": 24,
   "id": "69221bb6-738d-48de-9fd1-2a1096bef0aa",
   "metadata": {},
   "outputs": [
    {
     "name": "stdout",
     "output_type": "stream",
     "text": [
      "Shape of data after capping and flooring: (25000, 111)\n"
     ]
    }
   ],
   "source": [
    "lower_threshold = df.quantile(0.05)\n",
    "upper_threshold = df.quantile(0.95)\n",
    "capped_data = df.clip(lower = lower_threshold, upper= upper_threshold, axis=1)\n",
    "print(f\"Shape of data after capping and flooring: {capped_data.shape}\")"
   ]
  },
  {
   "cell_type": "code",
   "execution_count": 25,
   "id": "a1f8bb44-885c-4b71-bc44-f09967e90033",
   "metadata": {},
   "outputs": [],
   "source": [
    "df = df1_copy.copy()"
   ]
  },
  {
   "cell_type": "code",
   "execution_count": 26,
   "id": "a4268c82-f090-4b2d-80eb-ce40adc1c37a",
   "metadata": {},
   "outputs": [
    {
     "data": {
      "text/plain": [
       "(17612, 111)"
      ]
     },
     "execution_count": 26,
     "metadata": {},
     "output_type": "execute_result"
    }
   ],
   "source": [
    "df.shape"
   ]
  },
  {
   "cell_type": "markdown",
   "id": "13dbdb12-e2b5-478d-ab48-b5aa4257c7cb",
   "metadata": {},
   "source": [
    "#### Missing Values Treatement"
   ]
  },
  {
   "cell_type": "code",
   "execution_count": 27,
   "id": "bc70ec6e-08a9-480d-a967-52da598e45b9",
   "metadata": {
    "scrolled": true
   },
   "outputs": [
    {
     "data": {
      "text/plain": [
       "s6.new.rev.p2.m2              0\n",
       "s1.new.rev.m1                 0\n",
       "s3.og.rev.4db.p5              0\n",
       "s3.new.rev.4db.p5             0\n",
       "s4.usg.ins.p2                 0\n",
       "s4.og.unq.any.p2              0\n",
       "s2.rch.val.p6                 0\n",
       "s1.og.rev.all.m1              0\n",
       "s8.new.rev.p6                 0\n",
       "s4.loc.ic.ins.p1              0\n",
       "s8.mbl.p2                     0\n",
       "s2.rch.val.l67                0\n",
       "s7.s4.day.no.mou.p2.p4        0\n",
       "s3.new.rev.p3                 0\n",
       "s7.s5.s4.day.nomou.p4         0\n",
       "s8.og.rev.p3                  0\n",
       "s8.ic.mou.all.p3              0\n",
       "target                        0\n",
       "s7.new.rev.p2.p6              0\n",
       "s6.rtd.mou.p2.m2              0\n",
       "s7.rtd.mou.p2.p6              0\n",
       "s1.new.rev.p2                 0\n",
       "s1.new.rev.p1                 0\n",
       "s1.og.hom.mou.p1              0\n",
       "s7.rev.p2.p6                  0\n",
       "s1.og.hom.rev.p2              0\n",
       "s1.rtd.mou.p1                 0\n",
       "s1.og.rev.all.p1              0\n",
       "s1.og.mou.all.p1              0\n",
       "s3.og.rev.all.p1              0\n",
       "s7.new.rev.p3.p6              0\n",
       "ds.usg.p6                     0\n",
       "snd.dec.p2                    0\n",
       "s3.og.mou.all.p1              0\n",
       "ds.og.usg.p4                  0\n",
       "s1.og.mou.all.p2              0\n",
       "s8.og.rev.p6                  0\n",
       "s1.og.hom.mou.p2              0\n",
       "s5.og.rev.all.p1              0\n",
       "s1.og.rev.all.p2              0\n",
       "s1.rtd.mou.p2                 0\n",
       "s5.rtd.mou.p1                 0\n",
       "s1.og.mou.any.p2              0\n",
       "s4.day.no.mou.p2              0\n",
       "s1.hom.rmg.rev.p2             0\n",
       "s7.rtd.mou.p3.p6              0\n",
       "s5.og.mou.all.p1              0\n",
       "s5.og.hom.mou.p1              0\n",
       "s3.new.rev.p1                 0\n",
       "s4.usg.ins.p1                 0\n",
       "s2.s4.day.no.mou.p2           0\n",
       "s7.new.rev.l21.p6             0\n",
       "s5.rev.p1                     0\n",
       "s5.s4.day.no.mou.p2           0\n",
       "tot.s4.day.no.mou.p2          0\n",
       "s8.new.rev.p3                 0\n",
       "s3.og.mou.all.p2              0\n",
       "s1.rev.p1                     0\n",
       "s4.loc.og.ins.p1              0\n",
       "s1.loc.og.mou.p1              0\n",
       "s4.og.any.p2                  0\n",
       "prop.og.mou.any.p2            0\n",
       "s4.low.blnc.ins.p3            0\n",
       "s1.loc.og.mou.p2              0\n",
       "s5.new.rev.p2                 0\n",
       "s5.new.rev.p1                 0\n",
       "s4.low.blnc.ins.l14           0\n",
       "s3.og.hom.mou.p1              0\n",
       "s7.rtd.mou.l21.p6             0\n",
       "s4.loc.og.ins.l14             0\n",
       "s8.rtd.mou.p3                 0\n",
       "s4.dec.ins.l14                0\n",
       "s2.s4.day.no.mou.p3           0\n",
       "s3.new.rev.p2                 0\n",
       "tot.s4.day.no.mou.p3          0\n",
       "s5.og.mou.all.p2              0\n",
       "s4.loc.ic.ins.l14             0\n",
       "s4.usg.ins.l14                0\n",
       "s4.loc.og.ins.p2              0\n",
       "s3.rtd.mou.p1                 0\n",
       "s7.s5.s4.day.nomou.p2         0\n",
       "s8.og.mou.all.p6              0\n",
       "s5.og.hom.mou.p2              0\n",
       "s7.rtd.mou.m1.m2              0\n",
       "prop.og.mou.tot.mou.all.p2    0\n",
       "s8.rev.p6                     0\n",
       "s7.s5.s4.day.nomou.p3         0\n",
       "s5.rev.p2                     0\n",
       "s1.new.rev.m2                 0\n",
       "s3.og.rev.3db.p5              0\n",
       "s4.rch.val.gt.30.p2           0\n",
       "s8.rtd.mou.p6                 0\n",
       "s4.std.ins.l14                0\n",
       "s4.low.blnc.ins.p2            0\n",
       "s4.low.blnc.ins.p6            0\n",
       "s4.loc.ins.l14                0\n",
       "s4.low.blnc.ins.m2            0\n",
       "s4.data.ins.l14               0\n",
       "prop.loc.i2i.mou.og.mou.p6    0\n",
       "s4.dec.ins.p2                 0\n",
       "s1.rev.p2                     0\n",
       "prop.og.mou.tot.mou.all.p6    0\n",
       "prop.i2i.og.mou.p6            0\n",
       "s4.loc.ic.ins.p2              0\n",
       "s4.std.ic.ins.l14             0\n",
       "s4.low.blnc.ins.p4            0\n",
       "s3.og.rev.all.m2              0\n",
       "s3.new.rev.m2                 0\n",
       "prop.og.mou.any.p6            0\n",
       "prop.loc.i2i.mou.og.mou.p3    0\n",
       "s3.rev.p1                     0\n",
       "dtype: int64"
      ]
     },
     "execution_count": 27,
     "metadata": {},
     "output_type": "execute_result"
    }
   ],
   "source": [
    "# counting the missing value\n",
    "pd.set_option('display.max_rows', None)\n",
    "pd.set_option('display.max_columns', None)\n",
    "df.isnull().sum()"
   ]
  },
  {
   "cell_type": "code",
   "execution_count": 28,
   "id": "ad543967-29cf-4a18-a37f-f5ceff836f0f",
   "metadata": {},
   "outputs": [
    {
     "name": "stdout",
     "output_type": "stream",
     "text": [
      "Shape of data after removing NA records: (17612, 111)\n"
     ]
    }
   ],
   "source": [
    "# Remove records if NA's are less than 5%\n",
    "NA_records_removed = df.dropna(thresh=int(0.95 * df.shape[1]))\n",
    "print(f\"Shape of data after removing NA records: {NA_records_removed.shape}\")"
   ]
  },
  {
   "cell_type": "code",
   "execution_count": 29,
   "id": "f2eba1a7",
   "metadata": {},
   "outputs": [
    {
     "name": "stdout",
     "output_type": "stream",
     "text": [
      "Shape of data after removing NA columns: (17612, 111)\n"
     ]
    }
   ],
   "source": [
    "# Remove if NA's are 50% in any variable\n",
    "na_columns_removed = df.dropna(thresh=int(0.5 * df.shape[0]), axis=1)\n",
    "print(f\"Shape of data after removing NA columns: {na_columns_removed.shape}\")"
   ]
  },
  {
   "cell_type": "code",
   "execution_count": 30,
   "id": "c454bcab-15a5-4476-87a2-dcecea113ad6",
   "metadata": {
    "scrolled": true
   },
   "outputs": [
    {
     "data": {
      "text/plain": [
       "s6.new.rev.p2.m2              float64\n",
       "s1.new.rev.m1                 float64\n",
       "s3.og.rev.4db.p5              float64\n",
       "s3.new.rev.4db.p5             float64\n",
       "s4.usg.ins.p2                   int64\n",
       "s4.og.unq.any.p2              float64\n",
       "s2.rch.val.p6                 float64\n",
       "s1.og.rev.all.m1              float64\n",
       "s8.new.rev.p6                 float64\n",
       "s4.loc.ic.ins.p1                int64\n",
       "s8.mbl.p2                     float64\n",
       "s2.rch.val.l67                float64\n",
       "s7.s4.day.no.mou.p2.p4        float64\n",
       "s3.new.rev.p3                 float64\n",
       "s7.s5.s4.day.nomou.p4         float64\n",
       "s8.og.rev.p3                  float64\n",
       "s8.ic.mou.all.p3              float64\n",
       "target                          int64\n",
       "s7.new.rev.p2.p6              float64\n",
       "s6.rtd.mou.p2.m2              float64\n",
       "s7.rtd.mou.p2.p6              float64\n",
       "s1.new.rev.p2                 float64\n",
       "s1.new.rev.p1                 float64\n",
       "s1.og.hom.mou.p1              float64\n",
       "s7.rev.p2.p6                  float64\n",
       "s1.og.hom.rev.p2              float64\n",
       "s1.rtd.mou.p1                 float64\n",
       "s1.og.rev.all.p1              float64\n",
       "s1.og.mou.all.p1              float64\n",
       "s3.og.rev.all.p1              float64\n",
       "s7.new.rev.p3.p6              float64\n",
       "ds.usg.p6                     float64\n",
       "snd.dec.p2                    float64\n",
       "s3.og.mou.all.p1              float64\n",
       "ds.og.usg.p4                  float64\n",
       "s1.og.mou.all.p2              float64\n",
       "s8.og.rev.p6                  float64\n",
       "s1.og.hom.mou.p2              float64\n",
       "s5.og.rev.all.p1              float64\n",
       "s1.og.rev.all.p2              float64\n",
       "s1.rtd.mou.p2                 float64\n",
       "s5.rtd.mou.p1                 float64\n",
       "s1.og.mou.any.p2              float64\n",
       "s4.day.no.mou.p2              float64\n",
       "s1.hom.rmg.rev.p2             float64\n",
       "s7.rtd.mou.p3.p6              float64\n",
       "s5.og.mou.all.p1              float64\n",
       "s5.og.hom.mou.p1              float64\n",
       "s3.new.rev.p1                 float64\n",
       "s4.usg.ins.p1                   int64\n",
       "s2.s4.day.no.mou.p2           float64\n",
       "s7.new.rev.l21.p6             float64\n",
       "s5.rev.p1                     float64\n",
       "s5.s4.day.no.mou.p2             int64\n",
       "tot.s4.day.no.mou.p2            int64\n",
       "s8.new.rev.p3                 float64\n",
       "s3.og.mou.all.p2              float64\n",
       "s1.rev.p1                     float64\n",
       "s4.loc.og.ins.p1                int64\n",
       "s1.loc.og.mou.p1              float64\n",
       "s4.og.any.p2                  float64\n",
       "prop.og.mou.any.p2            float64\n",
       "s4.low.blnc.ins.p3              int64\n",
       "s1.loc.og.mou.p2              float64\n",
       "s5.new.rev.p2                 float64\n",
       "s5.new.rev.p1                 float64\n",
       "s4.low.blnc.ins.l14             int64\n",
       "s3.og.hom.mou.p1              float64\n",
       "s7.rtd.mou.l21.p6             float64\n",
       "s4.loc.og.ins.l14               int64\n",
       "s8.rtd.mou.p3                 float64\n",
       "s4.dec.ins.l14                  int64\n",
       "s2.s4.day.no.mou.p3           float64\n",
       "s3.new.rev.p2                 float64\n",
       "tot.s4.day.no.mou.p3            int64\n",
       "s5.og.mou.all.p2              float64\n",
       "s4.loc.ic.ins.l14             float64\n",
       "s4.usg.ins.l14                  int64\n",
       "s4.loc.og.ins.p2                int64\n",
       "s3.rtd.mou.p1                 float64\n",
       "s7.s5.s4.day.nomou.p2         float64\n",
       "s8.og.mou.all.p6              float64\n",
       "s5.og.hom.mou.p2              float64\n",
       "s7.rtd.mou.m1.m2              float64\n",
       "prop.og.mou.tot.mou.all.p2    float64\n",
       "s8.rev.p6                     float64\n",
       "s7.s5.s4.day.nomou.p3         float64\n",
       "s5.rev.p2                     float64\n",
       "s1.new.rev.m2                 float64\n",
       "s3.og.rev.3db.p5              float64\n",
       "s4.rch.val.gt.30.p2           float64\n",
       "s8.rtd.mou.p6                 float64\n",
       "s4.std.ins.l14                  int64\n",
       "s4.low.blnc.ins.p2              int64\n",
       "s4.low.blnc.ins.p6              int64\n",
       "s4.loc.ins.l14                float64\n",
       "s4.low.blnc.ins.m2              int64\n",
       "s4.data.ins.l14                 int64\n",
       "prop.loc.i2i.mou.og.mou.p6    float64\n",
       "s4.dec.ins.p2                   int64\n",
       "s1.rev.p2                     float64\n",
       "prop.og.mou.tot.mou.all.p6    float64\n",
       "prop.i2i.og.mou.p6            float64\n",
       "s4.loc.ic.ins.p2                int64\n",
       "s4.std.ic.ins.l14             float64\n",
       "s4.low.blnc.ins.p4              int64\n",
       "s3.og.rev.all.m2              float64\n",
       "s3.new.rev.m2                 float64\n",
       "prop.og.mou.any.p6            float64\n",
       "prop.loc.i2i.mou.og.mou.p3    float64\n",
       "s3.rev.p1                     float64\n",
       "dtype: object"
      ]
     },
     "execution_count": 30,
     "metadata": {},
     "output_type": "execute_result"
    }
   ],
   "source": [
    "df.dtypes"
   ]
  },
  {
   "cell_type": "code",
   "execution_count": 31,
   "id": "0781165a",
   "metadata": {},
   "outputs": [
    {
     "name": "stdout",
     "output_type": "stream",
     "text": [
      "Shape of data after imputation: (17612, 111)\n"
     ]
    }
   ],
   "source": [
    "# Impute with Mean/Median/Mode\n",
    "\n",
    "for column in df.columns:\n",
    "    if df[column].dtype in ['float64', 'int64']:\n",
    "        df[column].fillna(df[column].mean(), inplace=True)\n",
    "    else:\n",
    "        df[column].fillna(df[column].mode(), inplace=True)\n",
    "\n",
    "print(f\"Shape of data after imputation: {df.shape}\")"
   ]
  },
  {
   "cell_type": "markdown",
   "id": "af15eb00-960c-485f-9487-68d9b9d026d3",
   "metadata": {},
   "source": [
    "#### Removing the highly correlated variable"
   ]
  },
  {
   "cell_type": "code",
   "execution_count": 32,
   "id": "53fd953a-4d6b-4b38-b35c-8f4308525914",
   "metadata": {},
   "outputs": [
    {
     "name": "stdout",
     "output_type": "stream",
     "text": [
      "Highly correlated features removed: ['s7.new.rev.p2.p6', 's7.rtd.mou.p2.p6', 's1.rtd.mou.p1', 's1.og.mou.all.p1', 'snd.dec.p2', 'ds.og.usg.p4', 's1.og.hom.mou.p2', 's1.og.rev.all.p2', 's1.rtd.mou.p2', 's1.og.mou.any.p2', 's1.hom.rmg.rev.p2', 's5.og.mou.all.p1', 's5.og.hom.mou.p1', 's5.s4.day.no.mou.p2', 'tot.s4.day.no.mou.p2', 's5.new.rev.p1', 's4.low.blnc.ins.l14', 's3.og.hom.mou.p1', 's3.new.rev.p2', 's5.og.mou.all.p2', 's4.usg.ins.l14', 's3.rtd.mou.p1', 's7.s5.s4.day.nomou.p2', 's5.og.hom.mou.p2', 'prop.og.mou.tot.mou.all.p2', 's3.og.rev.3db.p5', 's8.rtd.mou.p6', 's4.low.blnc.ins.m2', 's4.low.blnc.ins.p4', 'prop.og.mou.any.p6', 's3.rev.p1']\n"
     ]
    }
   ],
   "source": [
    "# Creating a correlation matrix\n",
    "corr_matrix = df.corr().abs()\n",
    "\n",
    "# Selecting upper triangle of the correlation matrix\n",
    "upper = corr_matrix.where(np.triu(np.ones(corr_matrix.shape), k=1).astype(bool))\n",
    "\n",
    "# Finding features with correlation greater than 0.95\n",
    "high_corr_features = [column for column in upper.columns if any(upper[column] > 0.95)]\n",
    "\n",
    "# Dropping highly correlated features\n",
    "df = df.drop(columns=high_corr_features)\n",
    "\n",
    "print(\"Highly correlated features removed:\", high_corr_features)"
   ]
  },
  {
   "cell_type": "code",
   "execution_count": 33,
   "id": "828d121c-99b0-46b2-8765-ac723732d1b8",
   "metadata": {},
   "outputs": [
    {
     "name": "stdout",
     "output_type": "stream",
     "text": [
      "Shape of data after removing highly correlated features: (17612, 80)\n"
     ]
    }
   ],
   "source": [
    "print(\"Shape of data after removing highly correlated features:\", df.shape)"
   ]
  },
  {
   "cell_type": "markdown",
   "id": "c93016fb-d865-4e74-838d-b4f879db6fa4",
   "metadata": {},
   "source": [
    "#### Multicollinearity ( VIF > 5 )"
   ]
  },
  {
   "cell_type": "code",
   "execution_count": 34,
   "id": "1ecb75d9-3841-44b8-99f7-8a25cf4c4ae3",
   "metadata": {},
   "outputs": [
    {
     "name": "stdout",
     "output_type": "stream",
     "text": [
      "Features with VIF > 5 removed: ['s1.new.rev.m1', 's3.og.rev.4db.p5', 's3.new.rev.4db.p5', 's4.usg.ins.p2', 's4.og.unq.any.p2', 's2.rch.val.p6', 's1.og.rev.all.m1', 's8.new.rev.p6', 's4.loc.ic.ins.p1', 's2.rch.val.l67', 's3.new.rev.p3', 's1.new.rev.p2', 's1.new.rev.p1', 's1.og.hom.mou.p1', 's7.rev.p2.p6', 's1.og.hom.rev.p2', 's1.og.rev.all.p1', 's3.og.rev.all.p1', 's7.new.rev.p3.p6', 's3.og.mou.all.p1', 's1.og.mou.all.p2', 's5.og.rev.all.p1', 's5.rtd.mou.p1', 's7.rtd.mou.p3.p6', 's3.new.rev.p1', 's4.usg.ins.p1', 's2.s4.day.no.mou.p2', 's7.new.rev.l21.p6', 's5.rev.p1', 's3.og.mou.all.p2', 's1.rev.p1', 's4.loc.og.ins.p1', 's1.loc.og.mou.p1', 's4.og.any.p2', 'prop.og.mou.any.p2', 's4.low.blnc.ins.p3', 's1.loc.og.mou.p2', 's5.new.rev.p2', 's7.rtd.mou.l21.p6', 's4.loc.og.ins.l14', 's4.dec.ins.l14', 's2.s4.day.no.mou.p3', 'tot.s4.day.no.mou.p3', 's4.loc.ic.ins.l14', 's4.loc.og.ins.p2', 's5.rev.p2', 's1.new.rev.m2', 's4.loc.ins.l14', 'prop.loc.i2i.mou.og.mou.p6', 's4.dec.ins.p2', 's1.rev.p2', 'prop.og.mou.tot.mou.all.p6', 'prop.i2i.og.mou.p6', 's4.loc.ic.ins.p2', 's3.og.rev.all.m2', 's3.new.rev.m2', 'prop.loc.i2i.mou.og.mou.p3']\n",
      "Shape of data after removing multicollinearity: (17612, 23)\n"
     ]
    }
   ],
   "source": [
    "# Calculating VIF\n",
    "vif_data = pd.DataFrame()\n",
    "vif_data[\"feature\"] = df.columns\n",
    "vif_data[\"VIF\"] = [variance_inflation_factor(df.values, i) for i in range(df.shape[1])]\n",
    "\n",
    "# Filtering out features with VIF > 5\n",
    "features_to_keep = vif_data[vif_data[\"VIF\"] <= 15][\"feature\"]\n",
    "\n",
    "df = df[features_to_keep]\n",
    "\n",
    "print(\"Features with VIF > 5 removed:\", vif_data[vif_data[\"VIF\"] > 15][\"feature\"].tolist())\n",
    "print(\"Shape of data after removing multicollinearity:\", df.shape)"
   ]
  },
  {
   "cell_type": "code",
   "execution_count": 35,
   "id": "5aa6c245-64e5-43d5-ba71-21fd6e9c30ba",
   "metadata": {},
   "outputs": [
    {
     "data": {
      "text/plain": [
       "(17612, 23)"
      ]
     },
     "execution_count": 35,
     "metadata": {},
     "output_type": "execute_result"
    }
   ],
   "source": [
    "df.shape"
   ]
  },
  {
   "cell_type": "code",
   "execution_count": 36,
   "id": "a2647f1b-96fe-45af-a80b-8f39919fbea3",
   "metadata": {
    "scrolled": true
   },
   "outputs": [
    {
     "data": {
      "text/html": [
       "<div>\n",
       "<style scoped>\n",
       "    .dataframe tbody tr th:only-of-type {\n",
       "        vertical-align: middle;\n",
       "    }\n",
       "\n",
       "    .dataframe tbody tr th {\n",
       "        vertical-align: top;\n",
       "    }\n",
       "\n",
       "    .dataframe thead th {\n",
       "        text-align: right;\n",
       "    }\n",
       "</style>\n",
       "<table border=\"1\" class=\"dataframe\">\n",
       "  <thead>\n",
       "    <tr style=\"text-align: right;\">\n",
       "      <th></th>\n",
       "      <th>s6.new.rev.p2.m2</th>\n",
       "      <th>s8.mbl.p2</th>\n",
       "      <th>s7.s4.day.no.mou.p2.p4</th>\n",
       "      <th>s7.s5.s4.day.nomou.p4</th>\n",
       "      <th>s8.og.rev.p3</th>\n",
       "      <th>s8.ic.mou.all.p3</th>\n",
       "      <th>target</th>\n",
       "      <th>s6.rtd.mou.p2.m2</th>\n",
       "      <th>ds.usg.p6</th>\n",
       "      <th>s8.og.rev.p6</th>\n",
       "      <th>s4.day.no.mou.p2</th>\n",
       "      <th>s8.new.rev.p3</th>\n",
       "      <th>s8.rtd.mou.p3</th>\n",
       "      <th>s8.og.mou.all.p6</th>\n",
       "      <th>s7.rtd.mou.m1.m2</th>\n",
       "      <th>s8.rev.p6</th>\n",
       "      <th>s7.s5.s4.day.nomou.p3</th>\n",
       "      <th>s4.rch.val.gt.30.p2</th>\n",
       "      <th>s4.std.ins.l14</th>\n",
       "      <th>s4.low.blnc.ins.p2</th>\n",
       "      <th>s4.low.blnc.ins.p6</th>\n",
       "      <th>s4.data.ins.l14</th>\n",
       "      <th>s4.std.ic.ins.l14</th>\n",
       "    </tr>\n",
       "  </thead>\n",
       "  <tbody>\n",
       "    <tr>\n",
       "      <th>s6.new.rev.p2.m2</th>\n",
       "      <td>1.000000</td>\n",
       "      <td>-0.001125</td>\n",
       "      <td>0.034733</td>\n",
       "      <td>-0.047216</td>\n",
       "      <td>0.500939</td>\n",
       "      <td>0.153703</td>\n",
       "      <td>-0.415092</td>\n",
       "      <td>0.800169</td>\n",
       "      <td>-0.361093</td>\n",
       "      <td>0.510732</td>\n",
       "      <td>-0.304105</td>\n",
       "      <td>0.544879</td>\n",
       "      <td>0.411717</td>\n",
       "      <td>0.379134</td>\n",
       "      <td>0.092816</td>\n",
       "      <td>0.443397</td>\n",
       "      <td>-0.171433</td>\n",
       "      <td>0.378839</td>\n",
       "      <td>0.043249</td>\n",
       "      <td>-0.217638</td>\n",
       "      <td>-0.080305</td>\n",
       "      <td>-0.020522</td>\n",
       "      <td>0.026981</td>\n",
       "    </tr>\n",
       "    <tr>\n",
       "      <th>s8.mbl.p2</th>\n",
       "      <td>-0.001125</td>\n",
       "      <td>1.000000</td>\n",
       "      <td>-0.028896</td>\n",
       "      <td>0.025826</td>\n",
       "      <td>-0.027382</td>\n",
       "      <td>0.015460</td>\n",
       "      <td>-0.020468</td>\n",
       "      <td>-0.070041</td>\n",
       "      <td>0.000901</td>\n",
       "      <td>-0.015761</td>\n",
       "      <td>0.054315</td>\n",
       "      <td>0.035192</td>\n",
       "      <td>-0.016833</td>\n",
       "      <td>-0.009574</td>\n",
       "      <td>-0.000170</td>\n",
       "      <td>-0.032927</td>\n",
       "      <td>0.035622</td>\n",
       "      <td>0.303499</td>\n",
       "      <td>-0.013975</td>\n",
       "      <td>0.087749</td>\n",
       "      <td>0.050072</td>\n",
       "      <td>-0.021719</td>\n",
       "      <td>-0.007949</td>\n",
       "    </tr>\n",
       "    <tr>\n",
       "      <th>s7.s4.day.no.mou.p2.p4</th>\n",
       "      <td>0.034733</td>\n",
       "      <td>-0.028896</td>\n",
       "      <td>1.000000</td>\n",
       "      <td>-0.500042</td>\n",
       "      <td>0.023400</td>\n",
       "      <td>0.011849</td>\n",
       "      <td>-0.154613</td>\n",
       "      <td>0.038181</td>\n",
       "      <td>-0.207521</td>\n",
       "      <td>0.012464</td>\n",
       "      <td>-0.336264</td>\n",
       "      <td>0.015020</td>\n",
       "      <td>0.016796</td>\n",
       "      <td>0.026522</td>\n",
       "      <td>-0.007401</td>\n",
       "      <td>0.011189</td>\n",
       "      <td>-0.406962</td>\n",
       "      <td>0.241749</td>\n",
       "      <td>0.092401</td>\n",
       "      <td>-0.221378</td>\n",
       "      <td>-0.252397</td>\n",
       "      <td>0.045328</td>\n",
       "      <td>0.074803</td>\n",
       "    </tr>\n",
       "    <tr>\n",
       "      <th>s7.s5.s4.day.nomou.p4</th>\n",
       "      <td>-0.047216</td>\n",
       "      <td>0.025826</td>\n",
       "      <td>-0.500042</td>\n",
       "      <td>1.000000</td>\n",
       "      <td>-0.044613</td>\n",
       "      <td>-0.026686</td>\n",
       "      <td>0.169417</td>\n",
       "      <td>-0.040816</td>\n",
       "      <td>0.309792</td>\n",
       "      <td>-0.032695</td>\n",
       "      <td>0.448296</td>\n",
       "      <td>-0.042208</td>\n",
       "      <td>-0.051909</td>\n",
       "      <td>-0.033991</td>\n",
       "      <td>-0.024411</td>\n",
       "      <td>-0.028983</td>\n",
       "      <td>0.652180</td>\n",
       "      <td>-0.147070</td>\n",
       "      <td>-0.064941</td>\n",
       "      <td>0.301363</td>\n",
       "      <td>0.348207</td>\n",
       "      <td>-0.019029</td>\n",
       "      <td>-0.047883</td>\n",
       "    </tr>\n",
       "    <tr>\n",
       "      <th>s8.og.rev.p3</th>\n",
       "      <td>0.500939</td>\n",
       "      <td>-0.027382</td>\n",
       "      <td>0.023400</td>\n",
       "      <td>-0.044613</td>\n",
       "      <td>1.000000</td>\n",
       "      <td>0.216017</td>\n",
       "      <td>-0.271580</td>\n",
       "      <td>0.475967</td>\n",
       "      <td>-0.201881</td>\n",
       "      <td>0.149030</td>\n",
       "      <td>-0.172273</td>\n",
       "      <td>0.868655</td>\n",
       "      <td>0.770311</td>\n",
       "      <td>0.111271</td>\n",
       "      <td>0.123278</td>\n",
       "      <td>0.109611</td>\n",
       "      <td>-0.073564</td>\n",
       "      <td>0.180925</td>\n",
       "      <td>-0.017338</td>\n",
       "      <td>-0.142111</td>\n",
       "      <td>-0.036628</td>\n",
       "      <td>-0.032848</td>\n",
       "      <td>-0.019570</td>\n",
       "    </tr>\n",
       "    <tr>\n",
       "      <th>s8.ic.mou.all.p3</th>\n",
       "      <td>0.153703</td>\n",
       "      <td>0.015460</td>\n",
       "      <td>0.011849</td>\n",
       "      <td>-0.026686</td>\n",
       "      <td>0.216017</td>\n",
       "      <td>1.000000</td>\n",
       "      <td>-0.098648</td>\n",
       "      <td>0.158842</td>\n",
       "      <td>-0.100579</td>\n",
       "      <td>0.053335</td>\n",
       "      <td>-0.089895</td>\n",
       "      <td>0.205643</td>\n",
       "      <td>0.205384</td>\n",
       "      <td>0.051112</td>\n",
       "      <td>0.049270</td>\n",
       "      <td>0.061024</td>\n",
       "      <td>-0.049887</td>\n",
       "      <td>0.069630</td>\n",
       "      <td>-0.008067</td>\n",
       "      <td>-0.046545</td>\n",
       "      <td>-0.023593</td>\n",
       "      <td>-0.014206</td>\n",
       "      <td>-0.011457</td>\n",
       "    </tr>\n",
       "    <tr>\n",
       "      <th>target</th>\n",
       "      <td>-0.415092</td>\n",
       "      <td>-0.020468</td>\n",
       "      <td>-0.154613</td>\n",
       "      <td>0.169417</td>\n",
       "      <td>-0.271580</td>\n",
       "      <td>-0.098648</td>\n",
       "      <td>1.000000</td>\n",
       "      <td>-0.378235</td>\n",
       "      <td>0.307749</td>\n",
       "      <td>-0.276945</td>\n",
       "      <td>0.282766</td>\n",
       "      <td>-0.276158</td>\n",
       "      <td>-0.246190</td>\n",
       "      <td>-0.230881</td>\n",
       "      <td>-0.145038</td>\n",
       "      <td>-0.227344</td>\n",
       "      <td>0.227531</td>\n",
       "      <td>-0.198799</td>\n",
       "      <td>-0.000816</td>\n",
       "      <td>0.204966</td>\n",
       "      <td>0.140219</td>\n",
       "      <td>0.005762</td>\n",
       "      <td>0.003635</td>\n",
       "    </tr>\n",
       "    <tr>\n",
       "      <th>s6.rtd.mou.p2.m2</th>\n",
       "      <td>0.800169</td>\n",
       "      <td>-0.070041</td>\n",
       "      <td>0.038181</td>\n",
       "      <td>-0.040816</td>\n",
       "      <td>0.475967</td>\n",
       "      <td>0.158842</td>\n",
       "      <td>-0.378235</td>\n",
       "      <td>1.000000</td>\n",
       "      <td>-0.366147</td>\n",
       "      <td>0.504317</td>\n",
       "      <td>-0.356199</td>\n",
       "      <td>0.401361</td>\n",
       "      <td>0.500720</td>\n",
       "      <td>0.516904</td>\n",
       "      <td>0.096436</td>\n",
       "      <td>0.421648</td>\n",
       "      <td>-0.214245</td>\n",
       "      <td>0.261537</td>\n",
       "      <td>0.048155</td>\n",
       "      <td>-0.230577</td>\n",
       "      <td>-0.051029</td>\n",
       "      <td>-0.016803</td>\n",
       "      <td>0.026442</td>\n",
       "    </tr>\n",
       "    <tr>\n",
       "      <th>ds.usg.p6</th>\n",
       "      <td>-0.361093</td>\n",
       "      <td>0.000901</td>\n",
       "      <td>-0.207521</td>\n",
       "      <td>0.309792</td>\n",
       "      <td>-0.201881</td>\n",
       "      <td>-0.100579</td>\n",
       "      <td>0.307749</td>\n",
       "      <td>-0.366147</td>\n",
       "      <td>1.000000</td>\n",
       "      <td>-0.181079</td>\n",
       "      <td>0.532733</td>\n",
       "      <td>-0.199887</td>\n",
       "      <td>-0.195549</td>\n",
       "      <td>-0.197450</td>\n",
       "      <td>-0.036842</td>\n",
       "      <td>-0.170654</td>\n",
       "      <td>0.448690</td>\n",
       "      <td>-0.229601</td>\n",
       "      <td>-0.071853</td>\n",
       "      <td>0.439462</td>\n",
       "      <td>0.276281</td>\n",
       "      <td>-0.004004</td>\n",
       "      <td>-0.052574</td>\n",
       "    </tr>\n",
       "    <tr>\n",
       "      <th>s8.og.rev.p6</th>\n",
       "      <td>0.510732</td>\n",
       "      <td>-0.015761</td>\n",
       "      <td>0.012464</td>\n",
       "      <td>-0.032695</td>\n",
       "      <td>0.149030</td>\n",
       "      <td>0.053335</td>\n",
       "      <td>-0.276945</td>\n",
       "      <td>0.504317</td>\n",
       "      <td>-0.181079</td>\n",
       "      <td>1.000000</td>\n",
       "      <td>-0.179989</td>\n",
       "      <td>0.124252</td>\n",
       "      <td>0.115920</td>\n",
       "      <td>0.741224</td>\n",
       "      <td>-0.056231</td>\n",
       "      <td>0.767960</td>\n",
       "      <td>-0.159582</td>\n",
       "      <td>0.183791</td>\n",
       "      <td>0.049689</td>\n",
       "      <td>-0.128446</td>\n",
       "      <td>-0.009635</td>\n",
       "      <td>-0.015191</td>\n",
       "      <td>0.021463</td>\n",
       "    </tr>\n",
       "    <tr>\n",
       "      <th>s4.day.no.mou.p2</th>\n",
       "      <td>-0.304105</td>\n",
       "      <td>0.054315</td>\n",
       "      <td>-0.336264</td>\n",
       "      <td>0.448296</td>\n",
       "      <td>-0.172273</td>\n",
       "      <td>-0.089895</td>\n",
       "      <td>0.282766</td>\n",
       "      <td>-0.356199</td>\n",
       "      <td>0.532733</td>\n",
       "      <td>-0.179989</td>\n",
       "      <td>1.000000</td>\n",
       "      <td>-0.142032</td>\n",
       "      <td>-0.163786</td>\n",
       "      <td>-0.191396</td>\n",
       "      <td>-0.032263</td>\n",
       "      <td>-0.162589</td>\n",
       "      <td>0.708787</td>\n",
       "      <td>-0.236636</td>\n",
       "      <td>-0.085435</td>\n",
       "      <td>0.420461</td>\n",
       "      <td>0.299255</td>\n",
       "      <td>-0.026113</td>\n",
       "      <td>-0.061567</td>\n",
       "    </tr>\n",
       "    <tr>\n",
       "      <th>s8.new.rev.p3</th>\n",
       "      <td>0.544879</td>\n",
       "      <td>0.035192</td>\n",
       "      <td>0.015020</td>\n",
       "      <td>-0.042208</td>\n",
       "      <td>0.868655</td>\n",
       "      <td>0.205643</td>\n",
       "      <td>-0.276158</td>\n",
       "      <td>0.401361</td>\n",
       "      <td>-0.199887</td>\n",
       "      <td>0.124252</td>\n",
       "      <td>-0.142032</td>\n",
       "      <td>1.000000</td>\n",
       "      <td>0.674211</td>\n",
       "      <td>0.077814</td>\n",
       "      <td>0.111278</td>\n",
       "      <td>0.104797</td>\n",
       "      <td>-0.051886</td>\n",
       "      <td>0.245537</td>\n",
       "      <td>-0.017357</td>\n",
       "      <td>-0.136093</td>\n",
       "      <td>-0.073442</td>\n",
       "      <td>-0.036613</td>\n",
       "      <td>-0.016339</td>\n",
       "    </tr>\n",
       "    <tr>\n",
       "      <th>s8.rtd.mou.p3</th>\n",
       "      <td>0.411717</td>\n",
       "      <td>-0.016833</td>\n",
       "      <td>0.016796</td>\n",
       "      <td>-0.051909</td>\n",
       "      <td>0.770311</td>\n",
       "      <td>0.205384</td>\n",
       "      <td>-0.246190</td>\n",
       "      <td>0.500720</td>\n",
       "      <td>-0.195549</td>\n",
       "      <td>0.115920</td>\n",
       "      <td>-0.163786</td>\n",
       "      <td>0.674211</td>\n",
       "      <td>1.000000</td>\n",
       "      <td>0.155127</td>\n",
       "      <td>0.155582</td>\n",
       "      <td>0.124445</td>\n",
       "      <td>-0.074715</td>\n",
       "      <td>0.150816</td>\n",
       "      <td>-0.030675</td>\n",
       "      <td>-0.131758</td>\n",
       "      <td>-0.044746</td>\n",
       "      <td>-0.030952</td>\n",
       "      <td>-0.028705</td>\n",
       "    </tr>\n",
       "    <tr>\n",
       "      <th>s8.og.mou.all.p6</th>\n",
       "      <td>0.379134</td>\n",
       "      <td>-0.009574</td>\n",
       "      <td>0.026522</td>\n",
       "      <td>-0.033991</td>\n",
       "      <td>0.111271</td>\n",
       "      <td>0.051112</td>\n",
       "      <td>-0.230881</td>\n",
       "      <td>0.516904</td>\n",
       "      <td>-0.197450</td>\n",
       "      <td>0.741224</td>\n",
       "      <td>-0.191396</td>\n",
       "      <td>0.077814</td>\n",
       "      <td>0.155127</td>\n",
       "      <td>1.000000</td>\n",
       "      <td>-0.074954</td>\n",
       "      <td>0.594551</td>\n",
       "      <td>-0.174180</td>\n",
       "      <td>0.146266</td>\n",
       "      <td>0.044973</td>\n",
       "      <td>-0.132661</td>\n",
       "      <td>-0.010197</td>\n",
       "      <td>-0.016867</td>\n",
       "      <td>0.012433</td>\n",
       "    </tr>\n",
       "    <tr>\n",
       "      <th>s7.rtd.mou.m1.m2</th>\n",
       "      <td>0.092816</td>\n",
       "      <td>-0.000170</td>\n",
       "      <td>-0.007401</td>\n",
       "      <td>-0.024411</td>\n",
       "      <td>0.123278</td>\n",
       "      <td>0.049270</td>\n",
       "      <td>-0.145038</td>\n",
       "      <td>0.096436</td>\n",
       "      <td>-0.036842</td>\n",
       "      <td>-0.056231</td>\n",
       "      <td>-0.032263</td>\n",
       "      <td>0.111278</td>\n",
       "      <td>0.155582</td>\n",
       "      <td>-0.074954</td>\n",
       "      <td>1.000000</td>\n",
       "      <td>-0.052800</td>\n",
       "      <td>-0.004065</td>\n",
       "      <td>-0.016804</td>\n",
       "      <td>-0.033186</td>\n",
       "      <td>-0.038987</td>\n",
       "      <td>-0.032961</td>\n",
       "      <td>-0.001219</td>\n",
       "      <td>-0.007332</td>\n",
       "    </tr>\n",
       "    <tr>\n",
       "      <th>s8.rev.p6</th>\n",
       "      <td>0.443397</td>\n",
       "      <td>-0.032927</td>\n",
       "      <td>0.011189</td>\n",
       "      <td>-0.028983</td>\n",
       "      <td>0.109611</td>\n",
       "      <td>0.061024</td>\n",
       "      <td>-0.227344</td>\n",
       "      <td>0.421648</td>\n",
       "      <td>-0.170654</td>\n",
       "      <td>0.767960</td>\n",
       "      <td>-0.162589</td>\n",
       "      <td>0.104797</td>\n",
       "      <td>0.124445</td>\n",
       "      <td>0.594551</td>\n",
       "      <td>-0.052800</td>\n",
       "      <td>1.000000</td>\n",
       "      <td>-0.142897</td>\n",
       "      <td>0.211474</td>\n",
       "      <td>0.037020</td>\n",
       "      <td>-0.101566</td>\n",
       "      <td>-0.008163</td>\n",
       "      <td>-0.004274</td>\n",
       "      <td>0.014387</td>\n",
       "    </tr>\n",
       "    <tr>\n",
       "      <th>s7.s5.s4.day.nomou.p3</th>\n",
       "      <td>-0.171433</td>\n",
       "      <td>0.035622</td>\n",
       "      <td>-0.406962</td>\n",
       "      <td>0.652180</td>\n",
       "      <td>-0.073564</td>\n",
       "      <td>-0.049887</td>\n",
       "      <td>0.227531</td>\n",
       "      <td>-0.214245</td>\n",
       "      <td>0.448690</td>\n",
       "      <td>-0.159582</td>\n",
       "      <td>0.708787</td>\n",
       "      <td>-0.051886</td>\n",
       "      <td>-0.074715</td>\n",
       "      <td>-0.174180</td>\n",
       "      <td>-0.004065</td>\n",
       "      <td>-0.142897</td>\n",
       "      <td>1.000000</td>\n",
       "      <td>-0.198932</td>\n",
       "      <td>-0.077249</td>\n",
       "      <td>0.380958</td>\n",
       "      <td>0.331550</td>\n",
       "      <td>-0.029042</td>\n",
       "      <td>-0.053949</td>\n",
       "    </tr>\n",
       "    <tr>\n",
       "      <th>s4.rch.val.gt.30.p2</th>\n",
       "      <td>0.378839</td>\n",
       "      <td>0.303499</td>\n",
       "      <td>0.241749</td>\n",
       "      <td>-0.147070</td>\n",
       "      <td>0.180925</td>\n",
       "      <td>0.069630</td>\n",
       "      <td>-0.198799</td>\n",
       "      <td>0.261537</td>\n",
       "      <td>-0.229601</td>\n",
       "      <td>0.183791</td>\n",
       "      <td>-0.236636</td>\n",
       "      <td>0.245537</td>\n",
       "      <td>0.150816</td>\n",
       "      <td>0.146266</td>\n",
       "      <td>-0.016804</td>\n",
       "      <td>0.211474</td>\n",
       "      <td>-0.198932</td>\n",
       "      <td>1.000000</td>\n",
       "      <td>0.148189</td>\n",
       "      <td>-0.143904</td>\n",
       "      <td>-0.101142</td>\n",
       "      <td>0.116343</td>\n",
       "      <td>0.112677</td>\n",
       "    </tr>\n",
       "    <tr>\n",
       "      <th>s4.std.ins.l14</th>\n",
       "      <td>0.043249</td>\n",
       "      <td>-0.013975</td>\n",
       "      <td>0.092401</td>\n",
       "      <td>-0.064941</td>\n",
       "      <td>-0.017338</td>\n",
       "      <td>-0.008067</td>\n",
       "      <td>-0.000816</td>\n",
       "      <td>0.048155</td>\n",
       "      <td>-0.071853</td>\n",
       "      <td>0.049689</td>\n",
       "      <td>-0.085435</td>\n",
       "      <td>-0.017357</td>\n",
       "      <td>-0.030675</td>\n",
       "      <td>0.044973</td>\n",
       "      <td>-0.033186</td>\n",
       "      <td>0.037020</td>\n",
       "      <td>-0.077249</td>\n",
       "      <td>0.148189</td>\n",
       "      <td>1.000000</td>\n",
       "      <td>-0.069355</td>\n",
       "      <td>-0.063085</td>\n",
       "      <td>0.036039</td>\n",
       "      <td>0.869680</td>\n",
       "    </tr>\n",
       "    <tr>\n",
       "      <th>s4.low.blnc.ins.p2</th>\n",
       "      <td>-0.217638</td>\n",
       "      <td>0.087749</td>\n",
       "      <td>-0.221378</td>\n",
       "      <td>0.301363</td>\n",
       "      <td>-0.142111</td>\n",
       "      <td>-0.046545</td>\n",
       "      <td>0.204966</td>\n",
       "      <td>-0.230577</td>\n",
       "      <td>0.439462</td>\n",
       "      <td>-0.128446</td>\n",
       "      <td>0.420461</td>\n",
       "      <td>-0.136093</td>\n",
       "      <td>-0.131758</td>\n",
       "      <td>-0.132661</td>\n",
       "      <td>-0.038987</td>\n",
       "      <td>-0.101566</td>\n",
       "      <td>0.380958</td>\n",
       "      <td>-0.143904</td>\n",
       "      <td>-0.069355</td>\n",
       "      <td>1.000000</td>\n",
       "      <td>0.797959</td>\n",
       "      <td>0.004482</td>\n",
       "      <td>-0.050809</td>\n",
       "    </tr>\n",
       "    <tr>\n",
       "      <th>s4.low.blnc.ins.p6</th>\n",
       "      <td>-0.080305</td>\n",
       "      <td>0.050072</td>\n",
       "      <td>-0.252397</td>\n",
       "      <td>0.348207</td>\n",
       "      <td>-0.036628</td>\n",
       "      <td>-0.023593</td>\n",
       "      <td>0.140219</td>\n",
       "      <td>-0.051029</td>\n",
       "      <td>0.276281</td>\n",
       "      <td>-0.009635</td>\n",
       "      <td>0.299255</td>\n",
       "      <td>-0.073442</td>\n",
       "      <td>-0.044746</td>\n",
       "      <td>-0.010197</td>\n",
       "      <td>-0.032961</td>\n",
       "      <td>-0.008163</td>\n",
       "      <td>0.331550</td>\n",
       "      <td>-0.101142</td>\n",
       "      <td>-0.063085</td>\n",
       "      <td>0.797959</td>\n",
       "      <td>1.000000</td>\n",
       "      <td>-0.002731</td>\n",
       "      <td>-0.049430</td>\n",
       "    </tr>\n",
       "    <tr>\n",
       "      <th>s4.data.ins.l14</th>\n",
       "      <td>-0.020522</td>\n",
       "      <td>-0.021719</td>\n",
       "      <td>0.045328</td>\n",
       "      <td>-0.019029</td>\n",
       "      <td>-0.032848</td>\n",
       "      <td>-0.014206</td>\n",
       "      <td>0.005762</td>\n",
       "      <td>-0.016803</td>\n",
       "      <td>-0.004004</td>\n",
       "      <td>-0.015191</td>\n",
       "      <td>-0.026113</td>\n",
       "      <td>-0.036613</td>\n",
       "      <td>-0.030952</td>\n",
       "      <td>-0.016867</td>\n",
       "      <td>-0.001219</td>\n",
       "      <td>-0.004274</td>\n",
       "      <td>-0.029042</td>\n",
       "      <td>0.116343</td>\n",
       "      <td>0.036039</td>\n",
       "      <td>0.004482</td>\n",
       "      <td>-0.002731</td>\n",
       "      <td>1.000000</td>\n",
       "      <td>0.041767</td>\n",
       "    </tr>\n",
       "    <tr>\n",
       "      <th>s4.std.ic.ins.l14</th>\n",
       "      <td>0.026981</td>\n",
       "      <td>-0.007949</td>\n",
       "      <td>0.074803</td>\n",
       "      <td>-0.047883</td>\n",
       "      <td>-0.019570</td>\n",
       "      <td>-0.011457</td>\n",
       "      <td>0.003635</td>\n",
       "      <td>0.026442</td>\n",
       "      <td>-0.052574</td>\n",
       "      <td>0.021463</td>\n",
       "      <td>-0.061567</td>\n",
       "      <td>-0.016339</td>\n",
       "      <td>-0.028705</td>\n",
       "      <td>0.012433</td>\n",
       "      <td>-0.007332</td>\n",
       "      <td>0.014387</td>\n",
       "      <td>-0.053949</td>\n",
       "      <td>0.112677</td>\n",
       "      <td>0.869680</td>\n",
       "      <td>-0.050809</td>\n",
       "      <td>-0.049430</td>\n",
       "      <td>0.041767</td>\n",
       "      <td>1.000000</td>\n",
       "    </tr>\n",
       "  </tbody>\n",
       "</table>\n",
       "</div>"
      ],
      "text/plain": [
       "                        s6.new.rev.p2.m2  s8.mbl.p2  s7.s4.day.no.mou.p2.p4  \\\n",
       "s6.new.rev.p2.m2                1.000000  -0.001125                0.034733   \n",
       "s8.mbl.p2                      -0.001125   1.000000               -0.028896   \n",
       "s7.s4.day.no.mou.p2.p4          0.034733  -0.028896                1.000000   \n",
       "s7.s5.s4.day.nomou.p4          -0.047216   0.025826               -0.500042   \n",
       "s8.og.rev.p3                    0.500939  -0.027382                0.023400   \n",
       "s8.ic.mou.all.p3                0.153703   0.015460                0.011849   \n",
       "target                         -0.415092  -0.020468               -0.154613   \n",
       "s6.rtd.mou.p2.m2                0.800169  -0.070041                0.038181   \n",
       "ds.usg.p6                      -0.361093   0.000901               -0.207521   \n",
       "s8.og.rev.p6                    0.510732  -0.015761                0.012464   \n",
       "s4.day.no.mou.p2               -0.304105   0.054315               -0.336264   \n",
       "s8.new.rev.p3                   0.544879   0.035192                0.015020   \n",
       "s8.rtd.mou.p3                   0.411717  -0.016833                0.016796   \n",
       "s8.og.mou.all.p6                0.379134  -0.009574                0.026522   \n",
       "s7.rtd.mou.m1.m2                0.092816  -0.000170               -0.007401   \n",
       "s8.rev.p6                       0.443397  -0.032927                0.011189   \n",
       "s7.s5.s4.day.nomou.p3          -0.171433   0.035622               -0.406962   \n",
       "s4.rch.val.gt.30.p2             0.378839   0.303499                0.241749   \n",
       "s4.std.ins.l14                  0.043249  -0.013975                0.092401   \n",
       "s4.low.blnc.ins.p2             -0.217638   0.087749               -0.221378   \n",
       "s4.low.blnc.ins.p6             -0.080305   0.050072               -0.252397   \n",
       "s4.data.ins.l14                -0.020522  -0.021719                0.045328   \n",
       "s4.std.ic.ins.l14               0.026981  -0.007949                0.074803   \n",
       "\n",
       "                        s7.s5.s4.day.nomou.p4  s8.og.rev.p3  s8.ic.mou.all.p3  \\\n",
       "s6.new.rev.p2.m2                    -0.047216      0.500939          0.153703   \n",
       "s8.mbl.p2                            0.025826     -0.027382          0.015460   \n",
       "s7.s4.day.no.mou.p2.p4              -0.500042      0.023400          0.011849   \n",
       "s7.s5.s4.day.nomou.p4                1.000000     -0.044613         -0.026686   \n",
       "s8.og.rev.p3                        -0.044613      1.000000          0.216017   \n",
       "s8.ic.mou.all.p3                    -0.026686      0.216017          1.000000   \n",
       "target                               0.169417     -0.271580         -0.098648   \n",
       "s6.rtd.mou.p2.m2                    -0.040816      0.475967          0.158842   \n",
       "ds.usg.p6                            0.309792     -0.201881         -0.100579   \n",
       "s8.og.rev.p6                        -0.032695      0.149030          0.053335   \n",
       "s4.day.no.mou.p2                     0.448296     -0.172273         -0.089895   \n",
       "s8.new.rev.p3                       -0.042208      0.868655          0.205643   \n",
       "s8.rtd.mou.p3                       -0.051909      0.770311          0.205384   \n",
       "s8.og.mou.all.p6                    -0.033991      0.111271          0.051112   \n",
       "s7.rtd.mou.m1.m2                    -0.024411      0.123278          0.049270   \n",
       "s8.rev.p6                           -0.028983      0.109611          0.061024   \n",
       "s7.s5.s4.day.nomou.p3                0.652180     -0.073564         -0.049887   \n",
       "s4.rch.val.gt.30.p2                 -0.147070      0.180925          0.069630   \n",
       "s4.std.ins.l14                      -0.064941     -0.017338         -0.008067   \n",
       "s4.low.blnc.ins.p2                   0.301363     -0.142111         -0.046545   \n",
       "s4.low.blnc.ins.p6                   0.348207     -0.036628         -0.023593   \n",
       "s4.data.ins.l14                     -0.019029     -0.032848         -0.014206   \n",
       "s4.std.ic.ins.l14                   -0.047883     -0.019570         -0.011457   \n",
       "\n",
       "                          target  s6.rtd.mou.p2.m2  ds.usg.p6  s8.og.rev.p6  \\\n",
       "s6.new.rev.p2.m2       -0.415092          0.800169  -0.361093      0.510732   \n",
       "s8.mbl.p2              -0.020468         -0.070041   0.000901     -0.015761   \n",
       "s7.s4.day.no.mou.p2.p4 -0.154613          0.038181  -0.207521      0.012464   \n",
       "s7.s5.s4.day.nomou.p4   0.169417         -0.040816   0.309792     -0.032695   \n",
       "s8.og.rev.p3           -0.271580          0.475967  -0.201881      0.149030   \n",
       "s8.ic.mou.all.p3       -0.098648          0.158842  -0.100579      0.053335   \n",
       "target                  1.000000         -0.378235   0.307749     -0.276945   \n",
       "s6.rtd.mou.p2.m2       -0.378235          1.000000  -0.366147      0.504317   \n",
       "ds.usg.p6               0.307749         -0.366147   1.000000     -0.181079   \n",
       "s8.og.rev.p6           -0.276945          0.504317  -0.181079      1.000000   \n",
       "s4.day.no.mou.p2        0.282766         -0.356199   0.532733     -0.179989   \n",
       "s8.new.rev.p3          -0.276158          0.401361  -0.199887      0.124252   \n",
       "s8.rtd.mou.p3          -0.246190          0.500720  -0.195549      0.115920   \n",
       "s8.og.mou.all.p6       -0.230881          0.516904  -0.197450      0.741224   \n",
       "s7.rtd.mou.m1.m2       -0.145038          0.096436  -0.036842     -0.056231   \n",
       "s8.rev.p6              -0.227344          0.421648  -0.170654      0.767960   \n",
       "s7.s5.s4.day.nomou.p3   0.227531         -0.214245   0.448690     -0.159582   \n",
       "s4.rch.val.gt.30.p2    -0.198799          0.261537  -0.229601      0.183791   \n",
       "s4.std.ins.l14         -0.000816          0.048155  -0.071853      0.049689   \n",
       "s4.low.blnc.ins.p2      0.204966         -0.230577   0.439462     -0.128446   \n",
       "s4.low.blnc.ins.p6      0.140219         -0.051029   0.276281     -0.009635   \n",
       "s4.data.ins.l14         0.005762         -0.016803  -0.004004     -0.015191   \n",
       "s4.std.ic.ins.l14       0.003635          0.026442  -0.052574      0.021463   \n",
       "\n",
       "                        s4.day.no.mou.p2  s8.new.rev.p3  s8.rtd.mou.p3  \\\n",
       "s6.new.rev.p2.m2               -0.304105       0.544879       0.411717   \n",
       "s8.mbl.p2                       0.054315       0.035192      -0.016833   \n",
       "s7.s4.day.no.mou.p2.p4         -0.336264       0.015020       0.016796   \n",
       "s7.s5.s4.day.nomou.p4           0.448296      -0.042208      -0.051909   \n",
       "s8.og.rev.p3                   -0.172273       0.868655       0.770311   \n",
       "s8.ic.mou.all.p3               -0.089895       0.205643       0.205384   \n",
       "target                          0.282766      -0.276158      -0.246190   \n",
       "s6.rtd.mou.p2.m2               -0.356199       0.401361       0.500720   \n",
       "ds.usg.p6                       0.532733      -0.199887      -0.195549   \n",
       "s8.og.rev.p6                   -0.179989       0.124252       0.115920   \n",
       "s4.day.no.mou.p2                1.000000      -0.142032      -0.163786   \n",
       "s8.new.rev.p3                  -0.142032       1.000000       0.674211   \n",
       "s8.rtd.mou.p3                  -0.163786       0.674211       1.000000   \n",
       "s8.og.mou.all.p6               -0.191396       0.077814       0.155127   \n",
       "s7.rtd.mou.m1.m2               -0.032263       0.111278       0.155582   \n",
       "s8.rev.p6                      -0.162589       0.104797       0.124445   \n",
       "s7.s5.s4.day.nomou.p3           0.708787      -0.051886      -0.074715   \n",
       "s4.rch.val.gt.30.p2            -0.236636       0.245537       0.150816   \n",
       "s4.std.ins.l14                 -0.085435      -0.017357      -0.030675   \n",
       "s4.low.blnc.ins.p2              0.420461      -0.136093      -0.131758   \n",
       "s4.low.blnc.ins.p6              0.299255      -0.073442      -0.044746   \n",
       "s4.data.ins.l14                -0.026113      -0.036613      -0.030952   \n",
       "s4.std.ic.ins.l14              -0.061567      -0.016339      -0.028705   \n",
       "\n",
       "                        s8.og.mou.all.p6  s7.rtd.mou.m1.m2  s8.rev.p6  \\\n",
       "s6.new.rev.p2.m2                0.379134          0.092816   0.443397   \n",
       "s8.mbl.p2                      -0.009574         -0.000170  -0.032927   \n",
       "s7.s4.day.no.mou.p2.p4          0.026522         -0.007401   0.011189   \n",
       "s7.s5.s4.day.nomou.p4          -0.033991         -0.024411  -0.028983   \n",
       "s8.og.rev.p3                    0.111271          0.123278   0.109611   \n",
       "s8.ic.mou.all.p3                0.051112          0.049270   0.061024   \n",
       "target                         -0.230881         -0.145038  -0.227344   \n",
       "s6.rtd.mou.p2.m2                0.516904          0.096436   0.421648   \n",
       "ds.usg.p6                      -0.197450         -0.036842  -0.170654   \n",
       "s8.og.rev.p6                    0.741224         -0.056231   0.767960   \n",
       "s4.day.no.mou.p2               -0.191396         -0.032263  -0.162589   \n",
       "s8.new.rev.p3                   0.077814          0.111278   0.104797   \n",
       "s8.rtd.mou.p3                   0.155127          0.155582   0.124445   \n",
       "s8.og.mou.all.p6                1.000000         -0.074954   0.594551   \n",
       "s7.rtd.mou.m1.m2               -0.074954          1.000000  -0.052800   \n",
       "s8.rev.p6                       0.594551         -0.052800   1.000000   \n",
       "s7.s5.s4.day.nomou.p3          -0.174180         -0.004065  -0.142897   \n",
       "s4.rch.val.gt.30.p2             0.146266         -0.016804   0.211474   \n",
       "s4.std.ins.l14                  0.044973         -0.033186   0.037020   \n",
       "s4.low.blnc.ins.p2             -0.132661         -0.038987  -0.101566   \n",
       "s4.low.blnc.ins.p6             -0.010197         -0.032961  -0.008163   \n",
       "s4.data.ins.l14                -0.016867         -0.001219  -0.004274   \n",
       "s4.std.ic.ins.l14               0.012433         -0.007332   0.014387   \n",
       "\n",
       "                        s7.s5.s4.day.nomou.p3  s4.rch.val.gt.30.p2  \\\n",
       "s6.new.rev.p2.m2                    -0.171433             0.378839   \n",
       "s8.mbl.p2                            0.035622             0.303499   \n",
       "s7.s4.day.no.mou.p2.p4              -0.406962             0.241749   \n",
       "s7.s5.s4.day.nomou.p4                0.652180            -0.147070   \n",
       "s8.og.rev.p3                        -0.073564             0.180925   \n",
       "s8.ic.mou.all.p3                    -0.049887             0.069630   \n",
       "target                               0.227531            -0.198799   \n",
       "s6.rtd.mou.p2.m2                    -0.214245             0.261537   \n",
       "ds.usg.p6                            0.448690            -0.229601   \n",
       "s8.og.rev.p6                        -0.159582             0.183791   \n",
       "s4.day.no.mou.p2                     0.708787            -0.236636   \n",
       "s8.new.rev.p3                       -0.051886             0.245537   \n",
       "s8.rtd.mou.p3                       -0.074715             0.150816   \n",
       "s8.og.mou.all.p6                    -0.174180             0.146266   \n",
       "s7.rtd.mou.m1.m2                    -0.004065            -0.016804   \n",
       "s8.rev.p6                           -0.142897             0.211474   \n",
       "s7.s5.s4.day.nomou.p3                1.000000            -0.198932   \n",
       "s4.rch.val.gt.30.p2                 -0.198932             1.000000   \n",
       "s4.std.ins.l14                      -0.077249             0.148189   \n",
       "s4.low.blnc.ins.p2                   0.380958            -0.143904   \n",
       "s4.low.blnc.ins.p6                   0.331550            -0.101142   \n",
       "s4.data.ins.l14                     -0.029042             0.116343   \n",
       "s4.std.ic.ins.l14                   -0.053949             0.112677   \n",
       "\n",
       "                        s4.std.ins.l14  s4.low.blnc.ins.p2  \\\n",
       "s6.new.rev.p2.m2              0.043249           -0.217638   \n",
       "s8.mbl.p2                    -0.013975            0.087749   \n",
       "s7.s4.day.no.mou.p2.p4        0.092401           -0.221378   \n",
       "s7.s5.s4.day.nomou.p4        -0.064941            0.301363   \n",
       "s8.og.rev.p3                 -0.017338           -0.142111   \n",
       "s8.ic.mou.all.p3             -0.008067           -0.046545   \n",
       "target                       -0.000816            0.204966   \n",
       "s6.rtd.mou.p2.m2              0.048155           -0.230577   \n",
       "ds.usg.p6                    -0.071853            0.439462   \n",
       "s8.og.rev.p6                  0.049689           -0.128446   \n",
       "s4.day.no.mou.p2             -0.085435            0.420461   \n",
       "s8.new.rev.p3                -0.017357           -0.136093   \n",
       "s8.rtd.mou.p3                -0.030675           -0.131758   \n",
       "s8.og.mou.all.p6              0.044973           -0.132661   \n",
       "s7.rtd.mou.m1.m2             -0.033186           -0.038987   \n",
       "s8.rev.p6                     0.037020           -0.101566   \n",
       "s7.s5.s4.day.nomou.p3        -0.077249            0.380958   \n",
       "s4.rch.val.gt.30.p2           0.148189           -0.143904   \n",
       "s4.std.ins.l14                1.000000           -0.069355   \n",
       "s4.low.blnc.ins.p2           -0.069355            1.000000   \n",
       "s4.low.blnc.ins.p6           -0.063085            0.797959   \n",
       "s4.data.ins.l14               0.036039            0.004482   \n",
       "s4.std.ic.ins.l14             0.869680           -0.050809   \n",
       "\n",
       "                        s4.low.blnc.ins.p6  s4.data.ins.l14  s4.std.ic.ins.l14  \n",
       "s6.new.rev.p2.m2                 -0.080305        -0.020522           0.026981  \n",
       "s8.mbl.p2                         0.050072        -0.021719          -0.007949  \n",
       "s7.s4.day.no.mou.p2.p4           -0.252397         0.045328           0.074803  \n",
       "s7.s5.s4.day.nomou.p4             0.348207        -0.019029          -0.047883  \n",
       "s8.og.rev.p3                     -0.036628        -0.032848          -0.019570  \n",
       "s8.ic.mou.all.p3                 -0.023593        -0.014206          -0.011457  \n",
       "target                            0.140219         0.005762           0.003635  \n",
       "s6.rtd.mou.p2.m2                 -0.051029        -0.016803           0.026442  \n",
       "ds.usg.p6                         0.276281        -0.004004          -0.052574  \n",
       "s8.og.rev.p6                     -0.009635        -0.015191           0.021463  \n",
       "s4.day.no.mou.p2                  0.299255        -0.026113          -0.061567  \n",
       "s8.new.rev.p3                    -0.073442        -0.036613          -0.016339  \n",
       "s8.rtd.mou.p3                    -0.044746        -0.030952          -0.028705  \n",
       "s8.og.mou.all.p6                 -0.010197        -0.016867           0.012433  \n",
       "s7.rtd.mou.m1.m2                 -0.032961        -0.001219          -0.007332  \n",
       "s8.rev.p6                        -0.008163        -0.004274           0.014387  \n",
       "s7.s5.s4.day.nomou.p3             0.331550        -0.029042          -0.053949  \n",
       "s4.rch.val.gt.30.p2              -0.101142         0.116343           0.112677  \n",
       "s4.std.ins.l14                   -0.063085         0.036039           0.869680  \n",
       "s4.low.blnc.ins.p2                0.797959         0.004482          -0.050809  \n",
       "s4.low.blnc.ins.p6                1.000000        -0.002731          -0.049430  \n",
       "s4.data.ins.l14                  -0.002731         1.000000           0.041767  \n",
       "s4.std.ic.ins.l14                -0.049430         0.041767           1.000000  "
      ]
     },
     "execution_count": 36,
     "metadata": {},
     "output_type": "execute_result"
    }
   ],
   "source": [
    "df.corr()"
   ]
  },
  {
   "cell_type": "code",
   "execution_count": 37,
   "id": "cef6f3a3-b2bb-4ea3-aa38-05d3893d2d6f",
   "metadata": {},
   "outputs": [
    {
     "data": {
      "text/html": [
       "<div>\n",
       "<style scoped>\n",
       "    .dataframe tbody tr th:only-of-type {\n",
       "        vertical-align: middle;\n",
       "    }\n",
       "\n",
       "    .dataframe tbody tr th {\n",
       "        vertical-align: top;\n",
       "    }\n",
       "\n",
       "    .dataframe thead th {\n",
       "        text-align: right;\n",
       "    }\n",
       "</style>\n",
       "<table border=\"1\" class=\"dataframe\">\n",
       "  <thead>\n",
       "    <tr style=\"text-align: right;\">\n",
       "      <th></th>\n",
       "      <th>s6.new.rev.p2.m2</th>\n",
       "      <th>s8.mbl.p2</th>\n",
       "      <th>s7.s4.day.no.mou.p2.p4</th>\n",
       "      <th>s7.s5.s4.day.nomou.p4</th>\n",
       "      <th>s8.og.rev.p3</th>\n",
       "      <th>s8.ic.mou.all.p3</th>\n",
       "      <th>target</th>\n",
       "      <th>s6.rtd.mou.p2.m2</th>\n",
       "      <th>ds.usg.p6</th>\n",
       "      <th>s8.og.rev.p6</th>\n",
       "      <th>s4.day.no.mou.p2</th>\n",
       "      <th>s8.new.rev.p3</th>\n",
       "      <th>s8.rtd.mou.p3</th>\n",
       "      <th>s8.og.mou.all.p6</th>\n",
       "      <th>s7.rtd.mou.m1.m2</th>\n",
       "      <th>s8.rev.p6</th>\n",
       "      <th>s7.s5.s4.day.nomou.p3</th>\n",
       "      <th>s4.rch.val.gt.30.p2</th>\n",
       "      <th>s4.std.ins.l14</th>\n",
       "      <th>s4.low.blnc.ins.p2</th>\n",
       "      <th>s4.low.blnc.ins.p6</th>\n",
       "      <th>s4.data.ins.l14</th>\n",
       "      <th>s4.std.ic.ins.l14</th>\n",
       "    </tr>\n",
       "  </thead>\n",
       "  <tbody>\n",
       "    <tr>\n",
       "      <th>0</th>\n",
       "      <td>-0.76</td>\n",
       "      <td>-0.72</td>\n",
       "      <td>1.000000</td>\n",
       "      <td>0.666667</td>\n",
       "      <td>-0.60</td>\n",
       "      <td>-0.73</td>\n",
       "      <td>1</td>\n",
       "      <td>-0.71</td>\n",
       "      <td>1.0</td>\n",
       "      <td>-0.13</td>\n",
       "      <td>1.0</td>\n",
       "      <td>-0.90</td>\n",
       "      <td>-0.50</td>\n",
       "      <td>-0.11</td>\n",
       "      <td>0.240533</td>\n",
       "      <td>-0.12</td>\n",
       "      <td>0.666667</td>\n",
       "      <td>0.0</td>\n",
       "      <td>0</td>\n",
       "      <td>6</td>\n",
       "      <td>9</td>\n",
       "      <td>0</td>\n",
       "      <td>0.0</td>\n",
       "    </tr>\n",
       "    <tr>\n",
       "      <th>1</th>\n",
       "      <td>-0.98</td>\n",
       "      <td>-0.08</td>\n",
       "      <td>0.500000</td>\n",
       "      <td>0.583333</td>\n",
       "      <td>-0.14</td>\n",
       "      <td>0.00</td>\n",
       "      <td>1</td>\n",
       "      <td>-0.96</td>\n",
       "      <td>0.0</td>\n",
       "      <td>-0.15</td>\n",
       "      <td>1.0</td>\n",
       "      <td>-0.14</td>\n",
       "      <td>-0.11</td>\n",
       "      <td>-0.13</td>\n",
       "      <td>0.459725</td>\n",
       "      <td>-0.22</td>\n",
       "      <td>0.700000</td>\n",
       "      <td>0.0</td>\n",
       "      <td>0</td>\n",
       "      <td>7</td>\n",
       "      <td>23</td>\n",
       "      <td>0</td>\n",
       "      <td>0.0</td>\n",
       "    </tr>\n",
       "    <tr>\n",
       "      <th>4</th>\n",
       "      <td>-0.97</td>\n",
       "      <td>-0.04</td>\n",
       "      <td>0.222222</td>\n",
       "      <td>0.777778</td>\n",
       "      <td>-0.67</td>\n",
       "      <td>-1.04</td>\n",
       "      <td>0</td>\n",
       "      <td>-0.98</td>\n",
       "      <td>0.0</td>\n",
       "      <td>0.01</td>\n",
       "      <td>1.0</td>\n",
       "      <td>-0.67</td>\n",
       "      <td>-0.63</td>\n",
       "      <td>-0.02</td>\n",
       "      <td>1.728186</td>\n",
       "      <td>0.01</td>\n",
       "      <td>0.750000</td>\n",
       "      <td>0.0</td>\n",
       "      <td>1</td>\n",
       "      <td>0</td>\n",
       "      <td>20</td>\n",
       "      <td>2</td>\n",
       "      <td>1.0</td>\n",
       "    </tr>\n",
       "  </tbody>\n",
       "</table>\n",
       "</div>"
      ],
      "text/plain": [
       "   s6.new.rev.p2.m2  s8.mbl.p2  s7.s4.day.no.mou.p2.p4  s7.s5.s4.day.nomou.p4  \\\n",
       "0             -0.76      -0.72                1.000000               0.666667   \n",
       "1             -0.98      -0.08                0.500000               0.583333   \n",
       "4             -0.97      -0.04                0.222222               0.777778   \n",
       "\n",
       "   s8.og.rev.p3  s8.ic.mou.all.p3  target  s6.rtd.mou.p2.m2  ds.usg.p6  \\\n",
       "0         -0.60             -0.73       1             -0.71        1.0   \n",
       "1         -0.14              0.00       1             -0.96        0.0   \n",
       "4         -0.67             -1.04       0             -0.98        0.0   \n",
       "\n",
       "   s8.og.rev.p6  s4.day.no.mou.p2  s8.new.rev.p3  s8.rtd.mou.p3  \\\n",
       "0         -0.13               1.0          -0.90          -0.50   \n",
       "1         -0.15               1.0          -0.14          -0.11   \n",
       "4          0.01               1.0          -0.67          -0.63   \n",
       "\n",
       "   s8.og.mou.all.p6  s7.rtd.mou.m1.m2  s8.rev.p6  s7.s5.s4.day.nomou.p3  \\\n",
       "0             -0.11          0.240533      -0.12               0.666667   \n",
       "1             -0.13          0.459725      -0.22               0.700000   \n",
       "4             -0.02          1.728186       0.01               0.750000   \n",
       "\n",
       "   s4.rch.val.gt.30.p2  s4.std.ins.l14  s4.low.blnc.ins.p2  \\\n",
       "0                  0.0               0                   6   \n",
       "1                  0.0               0                   7   \n",
       "4                  0.0               1                   0   \n",
       "\n",
       "   s4.low.blnc.ins.p6  s4.data.ins.l14  s4.std.ic.ins.l14  \n",
       "0                   9                0                0.0  \n",
       "1                  23                0                0.0  \n",
       "4                  20                2                1.0  "
      ]
     },
     "execution_count": 37,
     "metadata": {},
     "output_type": "execute_result"
    }
   ],
   "source": [
    "df.head(3)"
   ]
  },
  {
   "cell_type": "code",
   "execution_count": 38,
   "id": "4bc16085-a249-44ca-8fe2-e75b4f9a24d9",
   "metadata": {},
   "outputs": [
    {
     "data": {
      "text/plain": [
       "Index(['s6.new.rev.p2.m2', 's8.mbl.p2', 's7.s4.day.no.mou.p2.p4',\n",
       "       's7.s5.s4.day.nomou.p4', 's8.og.rev.p3', 's8.ic.mou.all.p3', 'target',\n",
       "       's6.rtd.mou.p2.m2', 'ds.usg.p6', 's8.og.rev.p6', 's4.day.no.mou.p2',\n",
       "       's8.new.rev.p3', 's8.rtd.mou.p3', 's8.og.mou.all.p6',\n",
       "       's7.rtd.mou.m1.m2', 's8.rev.p6', 's7.s5.s4.day.nomou.p3',\n",
       "       's4.rch.val.gt.30.p2', 's4.std.ins.l14', 's4.low.blnc.ins.p2',\n",
       "       's4.low.blnc.ins.p6', 's4.data.ins.l14', 's4.std.ic.ins.l14'],\n",
       "      dtype='object')"
      ]
     },
     "execution_count": 38,
     "metadata": {},
     "output_type": "execute_result"
    }
   ],
   "source": [
    "# print the name of columns\n",
    "df.columns"
   ]
  },
  {
   "cell_type": "code",
   "execution_count": 39,
   "id": "c8940758-5517-483b-b0ef-0c0f84a4574c",
   "metadata": {},
   "outputs": [],
   "source": [
    "df_selected = df[['s6.new.rev.p2.m2', 's8.mbl.p2', 's7.s4.day.no.mou.p2.p4',\n",
    "       's7.s5.s4.day.nomou.p4', 's8.og.rev.p3', 's8.ic.mou.all.p3', 'target',\n",
    "       's6.rtd.mou.p2.m2', 'ds.usg.p6', 's8.og.rev.p6', 's4.day.no.mou.p2',\n",
    "       's8.new.rev.p3', 's8.rtd.mou.p3', 's8.og.mou.all.p6',\n",
    "       's7.rtd.mou.m1.m2', 's8.rev.p6', 's7.s5.s4.day.nomou.p3',\n",
    "       's4.rch.val.gt.30.p2', 's4.std.ins.l14', 's4.low.blnc.ins.p2',\n",
    "       's4.low.blnc.ins.p6', 's4.data.ins.l14', 's4.std.ic.ins.l14']]"
   ]
  },
  {
   "cell_type": "markdown",
   "id": "840e4de1-b63e-42b3-a6aa-95bf0ba2dc73",
   "metadata": {},
   "source": [
    "#### Data Visualization"
   ]
  },
  {
   "cell_type": "code",
   "execution_count": 40,
   "id": "330c9dda-4c65-4c6c-af3e-cbef66523623",
   "metadata": {},
   "outputs": [
    {
     "data": {
      "image/png": "[encoded data removed]",
      "text/plain": [
       "<Figure size 1200x800 with 1 Axes>"
      ]
     },
     "metadata": {},
     "output_type": "display_data"
    }
   ],
   "source": [
    "# Boxplot\n",
    "# provides a clear overview of the distribution and variability of the selected variables, highlighting areas \n",
    "plt.figure(figsize=(12, 8))\n",
    "sns.boxplot(data=df_selected.drop(columns='target'))\n",
    "plt.title('Boxplot of Selected Variables')\n",
    "plt.xticks(rotation=45)\n",
    "plt.show()"
   ]
  },
  {
   "cell_type": "code",
   "execution_count": 41,
   "id": "764c7222-7fde-4e43-83bd-324f74063393",
   "metadata": {},
   "outputs": [
    {
     "data": {
      "image/png": "[encoded data removed]",
      "text/plain": [
       "<Figure size 1200x1000 with 25 Axes>"
      ]
     },
     "metadata": {},
     "output_type": "display_data"
    }
   ],
   "source": [
    "# Histograms\n",
    "df_selected.hist(figsize=(12, 10))\n",
    "plt.suptitle('Histograms of Selected Variables', x=0.5, y=1.02)\n",
    "plt.tight_layout()\n",
    "plt.show()"
   ]
  },
  {
   "cell_type": "code",
   "execution_count": 42,
   "id": "91a8edfb",
   "metadata": {},
   "outputs": [
    {
     "data": {
      "image/png": "[encoded data removed]",
      "text/plain": [
       "<Figure size 1000x800 with 2 Axes>"
      ]
     },
     "metadata": {},
     "output_type": "display_data"
    }
   ],
   "source": [
    "# Correlation Heatmap\n",
    "plt.figure(figsize=(10, 8))\n",
    "sns.heatmap(df_selected.corr(), cmap='coolwarm', cbar=True)\n",
    "plt.title('Correlation Heatmap')\n",
    "plt.show()"
   ]
  },
  {
   "cell_type": "code",
   "execution_count": 43,
   "id": "efc91396-b783-42ad-8d4e-1bf010009e7a",
   "metadata": {},
   "outputs": [
    {
     "name": "stdout",
     "output_type": "stream",
     "text": [
      "Percentage of customers who have not churned (0): 71.11%\n",
      "Percentage of customers who have churned (1): 28.89%\n"
     ]
    }
   ],
   "source": [
    "# Count the occurrence of each value in the 'target' column\n",
    "value_counts = df['target'].value_counts()\n",
    "\n",
    "# Calculate the percentage of each value\n",
    "percentage = (value_counts / len(df)) * 100\n",
    "\n",
    "# Print the results\n",
    "print(\"Percentage of customers who have not churned (0): {:.2f}%\".format(percentage[0]))\n",
    "print(\"Percentage of customers who have churned (1): {:.2f}%\".format(percentage[1]))"
   ]
  },
  {
   "cell_type": "code",
   "execution_count": 44,
   "id": "2aa2b3a6-06ff-4dff-b39f-86f0c43694d9",
   "metadata": {},
   "outputs": [
    {
     "data": {
      "image/png": "[encoded data removed]",
      "text/plain": [
       "<Figure size 640x480 with 1 Axes>"
      ]
     },
     "metadata": {},
     "output_type": "display_data"
    }
   ],
   "source": [
    "# Visualize the distribution with a bar plot\n",
    "sns.barplot(x=percentage.index, y=percentage)\n",
    "plt.xlabel('Churn')\n",
    "plt.ylabel('Percentage')\n",
    "plt.title('Percentage of Churned vs. Not Churned Customers')\n",
    "plt.show()"
   ]
  },
  {
   "cell_type": "markdown",
   "id": "d1857607-8386-4d29-aec0-1ed7636346e2",
   "metadata": {},
   "source": [
    "### Input & Output Creation"
   ]
  },
  {
   "cell_type": "code",
   "execution_count": 45,
   "id": "5935f92c-dc4c-4a62-8492-161dbee2cae1",
   "metadata": {},
   "outputs": [],
   "source": [
    "ip = df.drop('target',axis=1)\n",
    "op = df.target"
   ]
  },
  {
   "cell_type": "code",
   "execution_count": 46,
   "id": "442dc240-1a79-4f7b-bb61-504c15d9ba2d",
   "metadata": {},
   "outputs": [
    {
     "data": {
      "text/html": [
       "<div>\n",
       "<style scoped>\n",
       "    .dataframe tbody tr th:only-of-type {\n",
       "        vertical-align: middle;\n",
       "    }\n",
       "\n",
       "    .dataframe tbody tr th {\n",
       "        vertical-align: top;\n",
       "    }\n",
       "\n",
       "    .dataframe thead th {\n",
       "        text-align: right;\n",
       "    }\n",
       "</style>\n",
       "<table border=\"1\" class=\"dataframe\">\n",
       "  <thead>\n",
       "    <tr style=\"text-align: right;\">\n",
       "      <th></th>\n",
       "      <th>s6.new.rev.p2.m2</th>\n",
       "      <th>s8.mbl.p2</th>\n",
       "      <th>s7.s4.day.no.mou.p2.p4</th>\n",
       "      <th>s7.s5.s4.day.nomou.p4</th>\n",
       "      <th>s8.og.rev.p3</th>\n",
       "      <th>s8.ic.mou.all.p3</th>\n",
       "      <th>s6.rtd.mou.p2.m2</th>\n",
       "      <th>ds.usg.p6</th>\n",
       "      <th>s8.og.rev.p6</th>\n",
       "      <th>s4.day.no.mou.p2</th>\n",
       "      <th>s8.new.rev.p3</th>\n",
       "      <th>s8.rtd.mou.p3</th>\n",
       "      <th>s8.og.mou.all.p6</th>\n",
       "      <th>s7.rtd.mou.m1.m2</th>\n",
       "      <th>s8.rev.p6</th>\n",
       "      <th>s7.s5.s4.day.nomou.p3</th>\n",
       "      <th>s4.rch.val.gt.30.p2</th>\n",
       "      <th>s4.std.ins.l14</th>\n",
       "      <th>s4.low.blnc.ins.p2</th>\n",
       "      <th>s4.low.blnc.ins.p6</th>\n",
       "      <th>s4.data.ins.l14</th>\n",
       "      <th>s4.std.ic.ins.l14</th>\n",
       "    </tr>\n",
       "  </thead>\n",
       "  <tbody>\n",
       "    <tr>\n",
       "      <th>0</th>\n",
       "      <td>-0.76</td>\n",
       "      <td>-0.72</td>\n",
       "      <td>1.000000</td>\n",
       "      <td>0.666667</td>\n",
       "      <td>-0.60</td>\n",
       "      <td>-0.73</td>\n",
       "      <td>-0.71</td>\n",
       "      <td>1.0</td>\n",
       "      <td>-0.13</td>\n",
       "      <td>1.0</td>\n",
       "      <td>-0.90</td>\n",
       "      <td>-0.50</td>\n",
       "      <td>-0.11</td>\n",
       "      <td>0.240533</td>\n",
       "      <td>-0.12</td>\n",
       "      <td>0.666667</td>\n",
       "      <td>0.0</td>\n",
       "      <td>0</td>\n",
       "      <td>6</td>\n",
       "      <td>9</td>\n",
       "      <td>0</td>\n",
       "      <td>0.0</td>\n",
       "    </tr>\n",
       "    <tr>\n",
       "      <th>1</th>\n",
       "      <td>-0.98</td>\n",
       "      <td>-0.08</td>\n",
       "      <td>0.500000</td>\n",
       "      <td>0.583333</td>\n",
       "      <td>-0.14</td>\n",
       "      <td>0.00</td>\n",
       "      <td>-0.96</td>\n",
       "      <td>0.0</td>\n",
       "      <td>-0.15</td>\n",
       "      <td>1.0</td>\n",
       "      <td>-0.14</td>\n",
       "      <td>-0.11</td>\n",
       "      <td>-0.13</td>\n",
       "      <td>0.459725</td>\n",
       "      <td>-0.22</td>\n",
       "      <td>0.700000</td>\n",
       "      <td>0.0</td>\n",
       "      <td>0</td>\n",
       "      <td>7</td>\n",
       "      <td>23</td>\n",
       "      <td>0</td>\n",
       "      <td>0.0</td>\n",
       "    </tr>\n",
       "    <tr>\n",
       "      <th>4</th>\n",
       "      <td>-0.97</td>\n",
       "      <td>-0.04</td>\n",
       "      <td>0.222222</td>\n",
       "      <td>0.777778</td>\n",
       "      <td>-0.67</td>\n",
       "      <td>-1.04</td>\n",
       "      <td>-0.98</td>\n",
       "      <td>0.0</td>\n",
       "      <td>0.01</td>\n",
       "      <td>1.0</td>\n",
       "      <td>-0.67</td>\n",
       "      <td>-0.63</td>\n",
       "      <td>-0.02</td>\n",
       "      <td>1.728186</td>\n",
       "      <td>0.01</td>\n",
       "      <td>0.750000</td>\n",
       "      <td>0.0</td>\n",
       "      <td>1</td>\n",
       "      <td>0</td>\n",
       "      <td>20</td>\n",
       "      <td>2</td>\n",
       "      <td>1.0</td>\n",
       "    </tr>\n",
       "    <tr>\n",
       "      <th>6</th>\n",
       "      <td>2.41</td>\n",
       "      <td>2.91</td>\n",
       "      <td>0.187500</td>\n",
       "      <td>0.937500</td>\n",
       "      <td>1.26</td>\n",
       "      <td>-0.42</td>\n",
       "      <td>2.24</td>\n",
       "      <td>0.0</td>\n",
       "      <td>0.13</td>\n",
       "      <td>1.0</td>\n",
       "      <td>1.74</td>\n",
       "      <td>1.05</td>\n",
       "      <td>0.11</td>\n",
       "      <td>1.540984</td>\n",
       "      <td>0.13</td>\n",
       "      <td>1.000000</td>\n",
       "      <td>1.0</td>\n",
       "      <td>1</td>\n",
       "      <td>5</td>\n",
       "      <td>13</td>\n",
       "      <td>0</td>\n",
       "      <td>1.0</td>\n",
       "    </tr>\n",
       "    <tr>\n",
       "      <th>7</th>\n",
       "      <td>0.65</td>\n",
       "      <td>15.28</td>\n",
       "      <td>0.000000</td>\n",
       "      <td>0.000000</td>\n",
       "      <td>0.29</td>\n",
       "      <td>0.03</td>\n",
       "      <td>-0.20</td>\n",
       "      <td>0.0</td>\n",
       "      <td>0.17</td>\n",
       "      <td>0.0</td>\n",
       "      <td>1.20</td>\n",
       "      <td>-0.49</td>\n",
       "      <td>0.40</td>\n",
       "      <td>0.122786</td>\n",
       "      <td>0.24</td>\n",
       "      <td>0.000000</td>\n",
       "      <td>2.0</td>\n",
       "      <td>14</td>\n",
       "      <td>0</td>\n",
       "      <td>2</td>\n",
       "      <td>0</td>\n",
       "      <td>1.0</td>\n",
       "    </tr>\n",
       "  </tbody>\n",
       "</table>\n",
       "</div>"
      ],
      "text/plain": [
       "   s6.new.rev.p2.m2  s8.mbl.p2  s7.s4.day.no.mou.p2.p4  s7.s5.s4.day.nomou.p4  \\\n",
       "0             -0.76      -0.72                1.000000               0.666667   \n",
       "1             -0.98      -0.08                0.500000               0.583333   \n",
       "4             -0.97      -0.04                0.222222               0.777778   \n",
       "6              2.41       2.91                0.187500               0.937500   \n",
       "7              0.65      15.28                0.000000               0.000000   \n",
       "\n",
       "   s8.og.rev.p3  s8.ic.mou.all.p3  s6.rtd.mou.p2.m2  ds.usg.p6  s8.og.rev.p6  \\\n",
       "0         -0.60             -0.73             -0.71        1.0         -0.13   \n",
       "1         -0.14              0.00             -0.96        0.0         -0.15   \n",
       "4         -0.67             -1.04             -0.98        0.0          0.01   \n",
       "6          1.26             -0.42              2.24        0.0          0.13   \n",
       "7          0.29              0.03             -0.20        0.0          0.17   \n",
       "\n",
       "   s4.day.no.mou.p2  s8.new.rev.p3  s8.rtd.mou.p3  s8.og.mou.all.p6  \\\n",
       "0               1.0          -0.90          -0.50             -0.11   \n",
       "1               1.0          -0.14          -0.11             -0.13   \n",
       "4               1.0          -0.67          -0.63             -0.02   \n",
       "6               1.0           1.74           1.05              0.11   \n",
       "7               0.0           1.20          -0.49              0.40   \n",
       "\n",
       "   s7.rtd.mou.m1.m2  s8.rev.p6  s7.s5.s4.day.nomou.p3  s4.rch.val.gt.30.p2  \\\n",
       "0          0.240533      -0.12               0.666667                  0.0   \n",
       "1          0.459725      -0.22               0.700000                  0.0   \n",
       "4          1.728186       0.01               0.750000                  0.0   \n",
       "6          1.540984       0.13               1.000000                  1.0   \n",
       "7          0.122786       0.24               0.000000                  2.0   \n",
       "\n",
       "   s4.std.ins.l14  s4.low.blnc.ins.p2  s4.low.blnc.ins.p6  s4.data.ins.l14  \\\n",
       "0               0                   6                   9                0   \n",
       "1               0                   7                  23                0   \n",
       "4               1                   0                  20                2   \n",
       "6               1                   5                  13                0   \n",
       "7              14                   0                   2                0   \n",
       "\n",
       "   s4.std.ic.ins.l14  \n",
       "0                0.0  \n",
       "1                0.0  \n",
       "4                1.0  \n",
       "6                1.0  \n",
       "7                1.0  "
      ]
     },
     "execution_count": 46,
     "metadata": {},
     "output_type": "execute_result"
    }
   ],
   "source": [
    "ip.head()"
   ]
  },
  {
   "cell_type": "code",
   "execution_count": 47,
   "id": "f7fd7dc9-9122-45b7-8ead-a71e0463a62d",
   "metadata": {},
   "outputs": [
    {
     "data": {
      "text/plain": [
       "0    1\n",
       "1    1\n",
       "4    0\n",
       "6    0\n",
       "7    0\n",
       "Name: target, dtype: int64"
      ]
     },
     "execution_count": 47,
     "metadata": {},
     "output_type": "execute_result"
    }
   ],
   "source": [
    "op.head()"
   ]
  },
  {
   "cell_type": "markdown",
   "id": "5cd1cd15-6251-4fa9-addc-f737724a6801",
   "metadata": {},
   "source": [
    "#### Splitting the dataset"
   ]
  },
  {
   "cell_type": "code",
   "execution_count": 48,
   "id": "f561078e-2764-4c9a-a6b1-6053db202993",
   "metadata": {},
   "outputs": [],
   "source": [
    "x_train,x_test,y_train,y_test = train_test_split(ip,op,train_size=0.8, random_state=42)"
   ]
  },
  {
   "cell_type": "code",
   "execution_count": 49,
   "id": "3489b637-731c-463e-a619-10a0fc7332b9",
   "metadata": {},
   "outputs": [],
   "source": [
    "#standard scaler\n",
    "sc = StandardScaler()\n",
    "x_train = sc.fit_transform(x_train)\n",
    "x_test = sc.fit_transform(x_test)"
   ]
  },
  {
   "cell_type": "markdown",
   "id": "fdb9aa16-977c-4aa9-8e52-ab1bf5fb3c1f",
   "metadata": {},
   "source": [
    "### ML Model"
   ]
  },
  {
   "cell_type": "markdown",
   "id": "639ed85f-b783-4fda-ba9e-4480fb3bf1b4",
   "metadata": {},
   "source": [
    "### Decesion Tree"
   ]
  },
  {
   "cell_type": "code",
   "execution_count": 50,
   "id": "9fcf3cb1-a363-4ff1-b229-c6f3ba724596",
   "metadata": {},
   "outputs": [
    {
     "data": {
      "text/html": [
       "<style>#sk-container-id-1 {color: black;background-color: white;}#sk-container-id-1 pre{padding: 0;}#sk-container-id-1 div.sk-toggleable {background-color: white;}#sk-container-id-1 label.sk-toggleable__label {cursor: pointer;display: block;width: 100%;margin-bottom: 0;padding: 0.3em;box-sizing: border-box;text-align: center;}#sk-container-id-1 label.sk-toggleable__label-arrow:before {content: \"▸\";float: left;margin-right: 0.25em;color: #696969;}#sk-container-id-1 label.sk-toggleable__label-arrow:hover:before {color: black;}#sk-container-id-1 div.sk-estimator:hover label.sk-toggleable__label-arrow:before {color: black;}#sk-container-id-1 div.sk-toggleable__content {max-height: 0;max-width: 0;overflow: hidden;text-align: left;background-color: #f0f8ff;}#sk-container-id-1 div.sk-toggleable__content pre {margin: 0.2em;color: black;border-radius: 0.25em;background-color: #f0f8ff;}#sk-container-id-1 input.sk-toggleable__control:checked~div.sk-toggleable__content {max-height: 200px;max-width: 100%;overflow: auto;}#sk-container-id-1 input.sk-toggleable__control:checked~label.sk-toggleable__label-arrow:before {content: \"▾\";}#sk-container-id-1 div.sk-estimator input.sk-toggleable__control:checked~label.sk-toggleable__label {background-color: #d4ebff;}#sk-container-id-1 div.sk-label input.sk-toggleable__control:checked~label.sk-toggleable__label {background-color: #d4ebff;}#sk-container-id-1 input.sk-hidden--visually {border: 0;clip: rect(1px 1px 1px 1px);clip: rect(1px, 1px, 1px, 1px);height: 1px;margin: -1px;overflow: hidden;padding: 0;position: absolute;width: 1px;}#sk-container-id-1 div.sk-estimator {font-family: monospace;background-color: #f0f8ff;border: 1px dotted black;border-radius: 0.25em;box-sizing: border-box;margin-bottom: 0.5em;}#sk-container-id-1 div.sk-estimator:hover {background-color: #d4ebff;}#sk-container-id-1 div.sk-parallel-item::after {content: \"\";width: 100%;border-bottom: 1px solid gray;flex-grow: 1;}#sk-container-id-1 div.sk-label:hover label.sk-toggleable__label {background-color: #d4ebff;}#sk-container-id-1 div.sk-serial::before {content: \"\";position: absolute;border-left: 1px solid gray;box-sizing: border-box;top: 0;bottom: 0;left: 50%;z-index: 0;}#sk-container-id-1 div.sk-serial {display: flex;flex-direction: column;align-items: center;background-color: white;padding-right: 0.2em;padding-left: 0.2em;position: relative;}#sk-container-id-1 div.sk-item {position: relative;z-index: 1;}#sk-container-id-1 div.sk-parallel {display: flex;align-items: stretch;justify-content: center;background-color: white;position: relative;}#sk-container-id-1 div.sk-item::before, #sk-container-id-1 div.sk-parallel-item::before {content: \"\";position: absolute;border-left: 1px solid gray;box-sizing: border-box;top: 0;bottom: 0;left: 50%;z-index: -1;}#sk-container-id-1 div.sk-parallel-item {display: flex;flex-direction: column;z-index: 1;position: relative;background-color: white;}#sk-container-id-1 div.sk-parallel-item:first-child::after {align-self: flex-end;width: 50%;}#sk-container-id-1 div.sk-parallel-item:last-child::after {align-self: flex-start;width: 50%;}#sk-container-id-1 div.sk-parallel-item:only-child::after {width: 0;}#sk-container-id-1 div.sk-dashed-wrapped {border: 1px dashed gray;margin: 0 0.4em 0.5em 0.4em;box-sizing: border-box;padding-bottom: 0.4em;background-color: white;}#sk-container-id-1 div.sk-label label {font-family: monospace;font-weight: bold;display: inline-block;line-height: 1.2em;}#sk-container-id-1 div.sk-label-container {text-align: center;}#sk-container-id-1 div.sk-container {/* jupyter's `normalize.less` sets `[hidden] { display: none; }` but bootstrap.min.css set `[hidden] { display: none !important; }` so we also need the `!important` here to be able to override the default hidden behavior on the sphinx rendered scikit-learn.org. See: https://github.com/scikit-learn/scikit-learn/issues/21755 */display: inline-block !important;position: relative;}#sk-container-id-1 div.sk-text-repr-fallback {display: none;}</style><div id=\"sk-container-id-1\" class=\"sk-top-container\"><div class=\"sk-text-repr-fallback\"><pre>DecisionTreeClassifier()</pre><b>In a Jupyter environment, please rerun this cell to show the HTML representation or trust the notebook. <br />On GitHub, the HTML representation is unable to render, please try loading this page with nbviewer.org.</b></div><div class=\"sk-container\" hidden><div class=\"sk-item\"><div class=\"sk-estimator sk-toggleable\"><input class=\"sk-toggleable__control sk-hidden--visually\" id=\"sk-estimator-id-1\" type=\"checkbox\" checked><label for=\"sk-estimator-id-1\" class=\"sk-toggleable__label sk-toggleable__label-arrow\">DecisionTreeClassifier</label><div class=\"sk-toggleable__content\"><pre>DecisionTreeClassifier()</pre></div></div></div></div></div>"
      ],
      "text/plain": [
       "DecisionTreeClassifier()"
      ]
     },
     "execution_count": 50,
     "metadata": {},
     "output_type": "execute_result"
    }
   ],
   "source": [
    "dt_model = DecisionTreeClassifier()\n",
    "dt_model.fit(x_train,y_train)"
   ]
  },
  {
   "cell_type": "code",
   "execution_count": 51,
   "id": "06067523-b074-4a9d-9cbe-845ab189442b",
   "metadata": {},
   "outputs": [
    {
     "data": {
      "text/plain": [
       "array([1, 0, 0, ..., 1, 0, 0], dtype=int64)"
      ]
     },
     "execution_count": 51,
     "metadata": {},
     "output_type": "execute_result"
    }
   ],
   "source": [
    "dt_prediction = dt_model.predict(x_test)\n",
    "dt_prediction"
   ]
  },
  {
   "cell_type": "code",
   "execution_count": 52,
   "id": "43bd0442-3046-4efe-8fdb-7fcc3f4a1b17",
   "metadata": {},
   "outputs": [
    {
     "name": "stdout",
     "output_type": "stream",
     "text": [
      "Decision Tree Accuracy: 0.7022424070394551\n",
      "              precision    recall  f1-score   support\n",
      "\n",
      "           0       0.80      0.78      0.79      2511\n",
      "           1       0.48      0.51      0.49      1012\n",
      "\n",
      "    accuracy                           0.70      3523\n",
      "   macro avg       0.64      0.64      0.64      3523\n",
      "weighted avg       0.71      0.70      0.70      3523\n",
      "\n"
     ]
    }
   ],
   "source": [
    "# Calculate the accuracy of the Decision Tree model on the test data\n",
    "dt_accuracy = accuracy_score(y_test, dt_prediction)\n",
    "\n",
    "# Print the accuracy score of the Decision Tree model\n",
    "print(f\"Decision Tree Accuracy: {dt_accuracy}\")\n",
    "\n",
    "# Print the classification report for the Decision Tree model's predictions\n",
    "print(classification_report(y_test, dt_prediction))"
   ]
  },
  {
   "cell_type": "markdown",
   "id": "218fca6a-8dce-4590-bea5-f298ce77b1bb",
   "metadata": {},
   "source": [
    "#### Confusion Matrix"
   ]
  },
  {
   "cell_type": "code",
   "execution_count": 53,
   "id": "375b1183-8495-4ddd-a330-ca7e2a09189f",
   "metadata": {},
   "outputs": [
    {
     "data": {
      "text/plain": [
       "array([[1962,  500],\n",
       "       [ 549,  512]], dtype=int64)"
      ]
     },
     "execution_count": 53,
     "metadata": {},
     "output_type": "execute_result"
    }
   ],
   "source": [
    "cm = confusion_matrix(dt_prediction,y_test)\n",
    "cm"
   ]
  },
  {
   "cell_type": "code",
   "execution_count": 54,
   "id": "da3a7265-16db-4283-a712-012cbc49f15c",
   "metadata": {},
   "outputs": [
    {
     "data": {
      "image/png": "[encoded data removed]",
      "text/plain": [
       "<Figure size 640x480 with 2 Axes>"
      ]
     },
     "metadata": {},
     "output_type": "display_data"
    }
   ],
   "source": [
    "cmd = ConfusionMatrixDisplay(cm)\n",
    "cmd.plot()\n",
    "plt.show()"
   ]
  },
  {
   "cell_type": "markdown",
   "id": "14358fdc-050d-4ab7-bafc-b637e2769aec",
   "metadata": {},
   "source": [
    "### hyperparameter tuning "
   ]
  },
  {
   "cell_type": "code",
   "execution_count": 55,
   "id": "56372741-c569-4f84-a26e-a17dd434a4f0",
   "metadata": {},
   "outputs": [
    {
     "name": "stdout",
     "output_type": "stream",
     "text": [
      "Best Decision Tree Accuracy: 0.7785977859778598\n",
      "              precision    recall  f1-score   support\n",
      "\n",
      "           0       0.81      0.90      0.85      2511\n",
      "           1       0.65      0.49      0.56      1012\n",
      "\n",
      "    accuracy                           0.78      3523\n",
      "   macro avg       0.73      0.69      0.71      3523\n",
      "weighted avg       0.77      0.78      0.77      3523\n",
      "\n"
     ]
    }
   ],
   "source": [
    "# Define the parameter grid for hyperparameter tuning\n",
    "param_grid = {'max_depth': [3, 5, 7, 10], 'min_samples_split': [2, 5, 10]}\n",
    "\n",
    "# Initialize GridSearchCV with the Decision Tree model, parameter grid, 5-fold cross-validation, and accuracy scoring\n",
    "grid_search_dt = GridSearchCV(dt_model, param_grid, cv=5, scoring='accuracy')\n",
    "\n",
    "# Fit the GridSearchCV to the training data\n",
    "grid_search_dt.fit(x_train, y_train)\n",
    "\n",
    "# Get the best estimator (model) from the grid search\n",
    "best_dt_model = grid_search_dt.best_estimator_\n",
    "\n",
    "# Predict the test data using the best model\n",
    "dt_predictions_best = best_dt_model.predict(x_test)\n",
    "\n",
    "# Calculate the accuracy of the best model on the test data\n",
    "best_dt_accuracy = accuracy_score(y_test, dt_predictions_best)\n",
    "\n",
    "# Print the best accuracy score\n",
    "print(f\"Best Decision Tree Accuracy: {best_dt_accuracy}\")\n",
    "\n",
    "# Print the classification report for the best model's predictions\n",
    "print(classification_report(y_test, dt_predictions_best))"
   ]
  },
  {
   "cell_type": "markdown",
   "id": "aace711b-85d5-4050-94d3-1887b0b1d03a",
   "metadata": {},
   "source": [
    "#### ROC Curve"
   ]
  },
  {
   "cell_type": "code",
   "execution_count": 73,
   "id": "6d483e59-d9ce-48aa-89b4-fb88d9efdaf7",
   "metadata": {},
   "outputs": [
    {
     "data": {
      "image/png": "[encoded data removed]",
      "text/plain": [
       "<Figure size 600x400 with 1 Axes>"
      ]
     },
     "metadata": {},
     "output_type": "display_data"
    }
   ],
   "source": [
    "from sklearn.metrics import roc_curve, roc_auc_score\n",
    "\n",
    "# Assuming dt_prob and y_test are already defined\n",
    "# Predict the probabilities for the positive class (class 1) using the best model\n",
    "dt_prob = best_dt_model.predict_proba(x_test)[:, 1]\n",
    "\n",
    "# Compute the false positive rate (fpr) and true positive rate (tpr) for the ROC curve\n",
    "dt_fpr, dt_tpr, _ = roc_curve(y_test, dt_prob)\n",
    "\n",
    "# Calculate the area under the ROC curve (AUC)\n",
    "dt_roc_auc = roc_auc_score(y_test, dt_prob)\n",
    "plt.figure(figsize=(6, 4))\n",
    "\n",
    "# Plot the ROC curve with fpr on the x-axis and tpr on the y-axis, and label it with the AUC score\n",
    "plt.plot(dt_fpr, dt_tpr, label=f'Decision Tree (AUC = {dt_roc_auc:.2f})')\n",
    "\n",
    "# Plot configuration\n",
    "plt.plot([0, 1], [0, 1], 'k--')\n",
    "plt.xlim([0.0, 1.0])\n",
    "plt.ylim([0.0, 1.05])\n",
    "plt.xlabel('False Positive Rate')\n",
    "plt.ylabel('True Positive Rate')\n",
    "plt.title('Receiver Operating Characteristic (ROC) Curve')\n",
    "plt.legend(loc='lower right')\n",
    "# Display the plot\n",
    "plt.show()"
   ]
  },
  {
   "cell_type": "markdown",
   "id": "80c0480b-1c5f-450c-9e17-b26d61a995de",
   "metadata": {},
   "source": [
    "### Logistic Regression"
   ]
  },
  {
   "cell_type": "code",
   "execution_count": 57,
   "id": "81515b4f-85d9-40b1-ba03-d7e4e17491a6",
   "metadata": {},
   "outputs": [
    {
     "data": {
      "text/html": [
       "<style>#sk-container-id-2 {color: black;background-color: white;}#sk-container-id-2 pre{padding: 0;}#sk-container-id-2 div.sk-toggleable {background-color: white;}#sk-container-id-2 label.sk-toggleable__label {cursor: pointer;display: block;width: 100%;margin-bottom: 0;padding: 0.3em;box-sizing: border-box;text-align: center;}#sk-container-id-2 label.sk-toggleable__label-arrow:before {content: \"▸\";float: left;margin-right: 0.25em;color: #696969;}#sk-container-id-2 label.sk-toggleable__label-arrow:hover:before {color: black;}#sk-container-id-2 div.sk-estimator:hover label.sk-toggleable__label-arrow:before {color: black;}#sk-container-id-2 div.sk-toggleable__content {max-height: 0;max-width: 0;overflow: hidden;text-align: left;background-color: #f0f8ff;}#sk-container-id-2 div.sk-toggleable__content pre {margin: 0.2em;color: black;border-radius: 0.25em;background-color: #f0f8ff;}#sk-container-id-2 input.sk-toggleable__control:checked~div.sk-toggleable__content {max-height: 200px;max-width: 100%;overflow: auto;}#sk-container-id-2 input.sk-toggleable__control:checked~label.sk-toggleable__label-arrow:before {content: \"▾\";}#sk-container-id-2 div.sk-estimator input.sk-toggleable__control:checked~label.sk-toggleable__label {background-color: #d4ebff;}#sk-container-id-2 div.sk-label input.sk-toggleable__control:checked~label.sk-toggleable__label {background-color: #d4ebff;}#sk-container-id-2 input.sk-hidden--visually {border: 0;clip: rect(1px 1px 1px 1px);clip: rect(1px, 1px, 1px, 1px);height: 1px;margin: -1px;overflow: hidden;padding: 0;position: absolute;width: 1px;}#sk-container-id-2 div.sk-estimator {font-family: monospace;background-color: #f0f8ff;border: 1px dotted black;border-radius: 0.25em;box-sizing: border-box;margin-bottom: 0.5em;}#sk-container-id-2 div.sk-estimator:hover {background-color: #d4ebff;}#sk-container-id-2 div.sk-parallel-item::after {content: \"\";width: 100%;border-bottom: 1px solid gray;flex-grow: 1;}#sk-container-id-2 div.sk-label:hover label.sk-toggleable__label {background-color: #d4ebff;}#sk-container-id-2 div.sk-serial::before {content: \"\";position: absolute;border-left: 1px solid gray;box-sizing: border-box;top: 0;bottom: 0;left: 50%;z-index: 0;}#sk-container-id-2 div.sk-serial {display: flex;flex-direction: column;align-items: center;background-color: white;padding-right: 0.2em;padding-left: 0.2em;position: relative;}#sk-container-id-2 div.sk-item {position: relative;z-index: 1;}#sk-container-id-2 div.sk-parallel {display: flex;align-items: stretch;justify-content: center;background-color: white;position: relative;}#sk-container-id-2 div.sk-item::before, #sk-container-id-2 div.sk-parallel-item::before {content: \"\";position: absolute;border-left: 1px solid gray;box-sizing: border-box;top: 0;bottom: 0;left: 50%;z-index: -1;}#sk-container-id-2 div.sk-parallel-item {display: flex;flex-direction: column;z-index: 1;position: relative;background-color: white;}#sk-container-id-2 div.sk-parallel-item:first-child::after {align-self: flex-end;width: 50%;}#sk-container-id-2 div.sk-parallel-item:last-child::after {align-self: flex-start;width: 50%;}#sk-container-id-2 div.sk-parallel-item:only-child::after {width: 0;}#sk-container-id-2 div.sk-dashed-wrapped {border: 1px dashed gray;margin: 0 0.4em 0.5em 0.4em;box-sizing: border-box;padding-bottom: 0.4em;background-color: white;}#sk-container-id-2 div.sk-label label {font-family: monospace;font-weight: bold;display: inline-block;line-height: 1.2em;}#sk-container-id-2 div.sk-label-container {text-align: center;}#sk-container-id-2 div.sk-container {/* jupyter's `normalize.less` sets `[hidden] { display: none; }` but bootstrap.min.css set `[hidden] { display: none !important; }` so we also need the `!important` here to be able to override the default hidden behavior on the sphinx rendered scikit-learn.org. See: https://github.com/scikit-learn/scikit-learn/issues/21755 */display: inline-block !important;position: relative;}#sk-container-id-2 div.sk-text-repr-fallback {display: none;}</style><div id=\"sk-container-id-2\" class=\"sk-top-container\"><div class=\"sk-text-repr-fallback\"><pre>LogisticRegression()</pre><b>In a Jupyter environment, please rerun this cell to show the HTML representation or trust the notebook. <br />On GitHub, the HTML representation is unable to render, please try loading this page with nbviewer.org.</b></div><div class=\"sk-container\" hidden><div class=\"sk-item\"><div class=\"sk-estimator sk-toggleable\"><input class=\"sk-toggleable__control sk-hidden--visually\" id=\"sk-estimator-id-2\" type=\"checkbox\" checked><label for=\"sk-estimator-id-2\" class=\"sk-toggleable__label sk-toggleable__label-arrow\">LogisticRegression</label><div class=\"sk-toggleable__content\"><pre>LogisticRegression()</pre></div></div></div></div></div>"
      ],
      "text/plain": [
       "LogisticRegression()"
      ]
     },
     "execution_count": 57,
     "metadata": {},
     "output_type": "execute_result"
    }
   ],
   "source": [
    "lr_model=LogisticRegression()\n",
    "lr_model.fit(x_train,y_train)"
   ]
  },
  {
   "cell_type": "code",
   "execution_count": 58,
   "id": "26ba5e40-3d72-465c-813b-53e43fa7bdde",
   "metadata": {},
   "outputs": [
    {
     "data": {
      "text/plain": [
       "array([0, 0, 0, ..., 1, 0, 0], dtype=int64)"
      ]
     },
     "execution_count": 58,
     "metadata": {},
     "output_type": "execute_result"
    }
   ],
   "source": [
    "lr_prediction = lr_model.predict(x_test)\n",
    "lr_prediction"
   ]
  },
  {
   "cell_type": "code",
   "execution_count": 59,
   "id": "54527958-7c4c-4759-b936-4a0dca629bc4",
   "metadata": {},
   "outputs": [
    {
     "name": "stdout",
     "output_type": "stream",
     "text": [
      "Logistic Regression Accuracy: 0.786829406755606\n",
      "              precision    recall  f1-score   support\n",
      "\n",
      "           0       0.81      0.91      0.86      2511\n",
      "           1       0.69      0.47      0.56      1012\n",
      "\n",
      "    accuracy                           0.79      3523\n",
      "   macro avg       0.75      0.69      0.71      3523\n",
      "weighted avg       0.78      0.79      0.77      3523\n",
      "\n"
     ]
    }
   ],
   "source": [
    "# Calculate the accuracy of the Logistic Regression model on the test data\n",
    "lr_accuracy = accuracy_score(y_test, lr_prediction)\n",
    "\n",
    "# Print the accuracy score of the Logistic Regression model\n",
    "print(f\"Logistic Regression Accuracy: {lr_accuracy}\")\n",
    "\n",
    "# Print the classification report for the Logistic Regression model's predictions\n",
    "print(classification_report(y_test, lr_prediction))"
   ]
  },
  {
   "cell_type": "markdown",
   "id": "c496dfb2-1020-44f7-a1e6-8912e9b138ad",
   "metadata": {},
   "source": [
    "#### Confusion Matrix"
   ]
  },
  {
   "cell_type": "code",
   "execution_count": 60,
   "id": "baf8cb46-176d-414e-a8a9-5234c0fc57b5",
   "metadata": {},
   "outputs": [
    {
     "data": {
      "text/plain": [
       "array([[2296,  536],\n",
       "       [ 215,  476]], dtype=int64)"
      ]
     },
     "execution_count": 60,
     "metadata": {},
     "output_type": "execute_result"
    }
   ],
   "source": [
    "cm1 = confusion_matrix(lr_prediction,y_test)\n",
    "cm1"
   ]
  },
  {
   "cell_type": "code",
   "execution_count": 61,
   "id": "b87ec83a-2766-4a1b-9481-c58b82c90e41",
   "metadata": {},
   "outputs": [
    {
     "data": {
      "image/png": "[encoded data removed]",
      "text/plain": [
       "<Figure size 640x480 with 2 Axes>"
      ]
     },
     "metadata": {},
     "output_type": "display_data"
    }
   ],
   "source": [
    "cmd1 = ConfusionMatrixDisplay(cm1)\n",
    "cmd1.plot()\n",
    "plt.show()"
   ]
  },
  {
   "cell_type": "markdown",
   "id": "9f4ca182-54a8-4847-ae55-f0e85fb32ec0",
   "metadata": {},
   "source": [
    "#### Hyperparameter Tuning"
   ]
  },
  {
   "cell_type": "code",
   "execution_count": 62,
   "id": "ca02e6cd-6342-429f-977c-bc886f29e85a",
   "metadata": {},
   "outputs": [
    {
     "name": "stdout",
     "output_type": "stream",
     "text": [
      "Best Logistic Regression Accuracy: 0.786829406755606\n",
      "              precision    recall  f1-score   support\n",
      "\n",
      "           0       0.81      0.91      0.86      2511\n",
      "           1       0.69      0.47      0.56      1012\n",
      "\n",
      "    accuracy                           0.79      3523\n",
      "   macro avg       0.75      0.69      0.71      3523\n",
      "weighted avg       0.78      0.79      0.77      3523\n",
      "\n"
     ]
    }
   ],
   "source": [
    "# Define the parameter grid for hyperparameter tuning\n",
    "param_grid_lr = {'C': [0.01, 0.1, 1, 10, 100]}\n",
    "\n",
    "# Initialize GridSearchCV with the logistic regression model, parameter grid, 5-fold cross-validation, and accuracy scoring\n",
    "grid_search_lr = GridSearchCV(lr_model, param_grid_lr, cv=5, scoring='accuracy')\n",
    "\n",
    "# Fit the GridSearchCV to the training data\n",
    "grid_search_lr.fit(x_train, y_train)\n",
    "\n",
    "# Get the best estimator (model) from the grid search\n",
    "best_lr_model = grid_search_lr.best_estimator_\n",
    "\n",
    "# Predict the test data using the best model\n",
    "lr_predictions_best = best_lr_model.predict(x_test)\n",
    "\n",
    "# Calculate the accuracy of the best model on the test data\n",
    "best_lr_accuracy = accuracy_score(y_test, lr_predictions_best)\n",
    "\n",
    "# Print the best accuracy score\n",
    "print(f\"Best Logistic Regression Accuracy: {best_lr_accuracy}\")\n",
    "\n",
    "# Print the classification report for the best model's predictions\n",
    "print(classification_report(y_test, lr_predictions_best))"
   ]
  },
  {
   "cell_type": "markdown",
   "id": "32ca7fe6-a441-4c1f-8b9e-d944f85dd24c",
   "metadata": {},
   "source": [
    "#### ROC Curve"
   ]
  },
  {
   "cell_type": "code",
   "execution_count": 71,
   "id": "cfa6bec2-cde2-41bf-9e75-14849c01bc5f",
   "metadata": {},
   "outputs": [
    {
     "data": {
      "image/png": "[encoded data removed]",
      "text/plain": [
       "<Figure size 600x400 with 1 Axes>"
      ]
     },
     "metadata": {},
     "output_type": "display_data"
    }
   ],
   "source": [
    "from sklearn.metrics import roc_curve, roc_auc_score\n",
    "\n",
    "# Assuming lr_prob and y_test are already defined\n",
    "# Predict the probabilities for the positive class (class 1) using the best model\n",
    "lr_prob = best_lr_model.predict_proba(x_test)[:, 1]\n",
    "\n",
    "# Compute the false positive rate (fpr) and true positive rate (tpr) for the ROC curve\n",
    "lr_fpr, lr_tpr, _ = roc_curve(y_test, lr_prob)\n",
    "\n",
    "# Calculate the area under the ROC curve (AUC)\n",
    "lr_roc_auc = roc_auc_score(y_test, lr_prob)\n",
    "plt.figure(figsize=(6, 4))\n",
    "\n",
    "# Plot the ROC curve with fpr on the x-axis and tpr on the y-axis, and label it with the AUC score\n",
    "plt.plot(lr_fpr, lr_tpr, label=f'Logistic Regression (AUC = {lr_roc_auc:.2f})')\n",
    "\n",
    "# Plot configuration\n",
    "plt.plot([0, 1], [0, 1], 'k--')\n",
    "plt.xlim([0.0, 1.0])\n",
    "plt.ylim([0.0, 1.05])\n",
    "plt.xlabel('False Positive Rate')\n",
    "plt.ylabel('True Positive Rate')\n",
    "plt.title('Receiver Operating Characteristic (ROC) Curve')\n",
    "plt.legend(loc='lower right')\n",
    "plt.show()"
   ]
  },
  {
   "cell_type": "markdown",
   "id": "8a7d4028-5024-4a34-9d82-e7aad97431b2",
   "metadata": {},
   "source": [
    "### Random Forest"
   ]
  },
  {
   "cell_type": "code",
   "execution_count": 64,
   "id": "ccfac956-eaed-4b5f-8413-9daf244abb7a",
   "metadata": {},
   "outputs": [
    {
     "data": {
      "text/html": [
       "<style>#sk-container-id-3 {color: black;background-color: white;}#sk-container-id-3 pre{padding: 0;}#sk-container-id-3 div.sk-toggleable {background-color: white;}#sk-container-id-3 label.sk-toggleable__label {cursor: pointer;display: block;width: 100%;margin-bottom: 0;padding: 0.3em;box-sizing: border-box;text-align: center;}#sk-container-id-3 label.sk-toggleable__label-arrow:before {content: \"▸\";float: left;margin-right: 0.25em;color: #696969;}#sk-container-id-3 label.sk-toggleable__label-arrow:hover:before {color: black;}#sk-container-id-3 div.sk-estimator:hover label.sk-toggleable__label-arrow:before {color: black;}#sk-container-id-3 div.sk-toggleable__content {max-height: 0;max-width: 0;overflow: hidden;text-align: left;background-color: #f0f8ff;}#sk-container-id-3 div.sk-toggleable__content pre {margin: 0.2em;color: black;border-radius: 0.25em;background-color: #f0f8ff;}#sk-container-id-3 input.sk-toggleable__control:checked~div.sk-toggleable__content {max-height: 200px;max-width: 100%;overflow: auto;}#sk-container-id-3 input.sk-toggleable__control:checked~label.sk-toggleable__label-arrow:before {content: \"▾\";}#sk-container-id-3 div.sk-estimator input.sk-toggleable__control:checked~label.sk-toggleable__label {background-color: #d4ebff;}#sk-container-id-3 div.sk-label input.sk-toggleable__control:checked~label.sk-toggleable__label {background-color: #d4ebff;}#sk-container-id-3 input.sk-hidden--visually {border: 0;clip: rect(1px 1px 1px 1px);clip: rect(1px, 1px, 1px, 1px);height: 1px;margin: -1px;overflow: hidden;padding: 0;position: absolute;width: 1px;}#sk-container-id-3 div.sk-estimator {font-family: monospace;background-color: #f0f8ff;border: 1px dotted black;border-radius: 0.25em;box-sizing: border-box;margin-bottom: 0.5em;}#sk-container-id-3 div.sk-estimator:hover {background-color: #d4ebff;}#sk-container-id-3 div.sk-parallel-item::after {content: \"\";width: 100%;border-bottom: 1px solid gray;flex-grow: 1;}#sk-container-id-3 div.sk-label:hover label.sk-toggleable__label {background-color: #d4ebff;}#sk-container-id-3 div.sk-serial::before {content: \"\";position: absolute;border-left: 1px solid gray;box-sizing: border-box;top: 0;bottom: 0;left: 50%;z-index: 0;}#sk-container-id-3 div.sk-serial {display: flex;flex-direction: column;align-items: center;background-color: white;padding-right: 0.2em;padding-left: 0.2em;position: relative;}#sk-container-id-3 div.sk-item {position: relative;z-index: 1;}#sk-container-id-3 div.sk-parallel {display: flex;align-items: stretch;justify-content: center;background-color: white;position: relative;}#sk-container-id-3 div.sk-item::before, #sk-container-id-3 div.sk-parallel-item::before {content: \"\";position: absolute;border-left: 1px solid gray;box-sizing: border-box;top: 0;bottom: 0;left: 50%;z-index: -1;}#sk-container-id-3 div.sk-parallel-item {display: flex;flex-direction: column;z-index: 1;position: relative;background-color: white;}#sk-container-id-3 div.sk-parallel-item:first-child::after {align-self: flex-end;width: 50%;}#sk-container-id-3 div.sk-parallel-item:last-child::after {align-self: flex-start;width: 50%;}#sk-container-id-3 div.sk-parallel-item:only-child::after {width: 0;}#sk-container-id-3 div.sk-dashed-wrapped {border: 1px dashed gray;margin: 0 0.4em 0.5em 0.4em;box-sizing: border-box;padding-bottom: 0.4em;background-color: white;}#sk-container-id-3 div.sk-label label {font-family: monospace;font-weight: bold;display: inline-block;line-height: 1.2em;}#sk-container-id-3 div.sk-label-container {text-align: center;}#sk-container-id-3 div.sk-container {/* jupyter's `normalize.less` sets `[hidden] { display: none; }` but bootstrap.min.css set `[hidden] { display: none !important; }` so we also need the `!important` here to be able to override the default hidden behavior on the sphinx rendered scikit-learn.org. See: https://github.com/scikit-learn/scikit-learn/issues/21755 */display: inline-block !important;position: relative;}#sk-container-id-3 div.sk-text-repr-fallback {display: none;}</style><div id=\"sk-container-id-3\" class=\"sk-top-container\"><div class=\"sk-text-repr-fallback\"><pre>RandomForestClassifier()</pre><b>In a Jupyter environment, please rerun this cell to show the HTML representation or trust the notebook. <br />On GitHub, the HTML representation is unable to render, please try loading this page with nbviewer.org.</b></div><div class=\"sk-container\" hidden><div class=\"sk-item\"><div class=\"sk-estimator sk-toggleable\"><input class=\"sk-toggleable__control sk-hidden--visually\" id=\"sk-estimator-id-3\" type=\"checkbox\" checked><label for=\"sk-estimator-id-3\" class=\"sk-toggleable__label sk-toggleable__label-arrow\">RandomForestClassifier</label><div class=\"sk-toggleable__content\"><pre>RandomForestClassifier()</pre></div></div></div></div></div>"
      ],
      "text/plain": [
       "RandomForestClassifier()"
      ]
     },
     "execution_count": 64,
     "metadata": {},
     "output_type": "execute_result"
    }
   ],
   "source": [
    "rf_model = RandomForestClassifier()\n",
    "rf_model.fit(x_train,y_train)"
   ]
  },
  {
   "cell_type": "code",
   "execution_count": 65,
   "id": "f1572a8d-90cf-44a8-a182-85e9fe00c2aa",
   "metadata": {},
   "outputs": [
    {
     "data": {
      "text/plain": [
       "array([1, 0, 0, ..., 1, 0, 0], dtype=int64)"
      ]
     },
     "execution_count": 65,
     "metadata": {},
     "output_type": "execute_result"
    }
   ],
   "source": [
    "rf_prediction = rf_model.predict(x_test)\n",
    "rf_prediction"
   ]
  },
  {
   "cell_type": "code",
   "execution_count": 66,
   "id": "2cdd103f-c14a-490d-9f8d-e265657c49a1",
   "metadata": {},
   "outputs": [
    {
     "name": "stdout",
     "output_type": "stream",
     "text": [
      "Random Forest Classifier Accuracy: 0.7848424638092535\n",
      "              precision    recall  f1-score   support\n",
      "\n",
      "           0       0.81      0.91      0.86      2511\n",
      "           1       0.68      0.47      0.55      1012\n",
      "\n",
      "    accuracy                           0.78      3523\n",
      "   macro avg       0.75      0.69      0.71      3523\n",
      "weighted avg       0.77      0.78      0.77      3523\n",
      "\n"
     ]
    }
   ],
   "source": [
    "# Calculate the accuracy of the Random Forest Classifier model on the test data\n",
    "rf_accuracy = accuracy_score(y_test, rf_prediction)\n",
    "\n",
    "# Print the accuracy score of the Random Forest Classifier model\n",
    "print(f\"Random Forest Classifier Accuracy: {rf_accuracy}\")\n",
    "\n",
    "# Print the classification report for the Random Forest Classifier model's predictions\n",
    "print(classification_report(y_test, rf_prediction))"
   ]
  },
  {
   "cell_type": "markdown",
   "id": "527bc030-c7f6-4b12-8fa7-0d55dc3777d8",
   "metadata": {},
   "source": [
    "#### Confusion Matrix"
   ]
  },
  {
   "cell_type": "code",
   "execution_count": 67,
   "id": "f0e339f0-3872-40de-9080-59eaed90561e",
   "metadata": {},
   "outputs": [
    {
     "data": {
      "text/plain": [
       "array([[2293,  540],\n",
       "       [ 218,  472]], dtype=int64)"
      ]
     },
     "execution_count": 67,
     "metadata": {},
     "output_type": "execute_result"
    }
   ],
   "source": [
    "cm2 = confusion_matrix(rf_prediction,y_test)\n",
    "cm2"
   ]
  },
  {
   "cell_type": "code",
   "execution_count": 68,
   "id": "b51c1a10-7c20-47b7-b2c5-49950bb82d41",
   "metadata": {},
   "outputs": [
    {
     "data": {
      "image/png": "[encoded data removed]",
      "text/plain": [
       "<Figure size 640x480 with 2 Axes>"
      ]
     },
     "metadata": {},
     "output_type": "display_data"
    }
   ],
   "source": [
    "cmd2 = ConfusionMatrixDisplay(cm2)\n",
    "cmd2.plot()\n",
    "plt.show()"
   ]
  },
  {
   "cell_type": "markdown",
   "id": "7f07a6bd-cb0a-4e84-93f9-9eb7a413b992",
   "metadata": {},
   "source": [
    "### Hyperparameter Tuning"
   ]
  },
  {
   "cell_type": "code",
   "execution_count": 69,
   "id": "9d5bd25c-4fa5-475d-b992-c45a53b630e1",
   "metadata": {},
   "outputs": [
    {
     "name": "stdout",
     "output_type": "stream",
     "text": [
      "Best Random Forest Accuracy: 0.7822878228782287\n",
      "              precision    recall  f1-score   support\n",
      "\n",
      "           0       0.81      0.92      0.86      2511\n",
      "           1       0.68      0.45      0.54      1012\n",
      "\n",
      "    accuracy                           0.78      3523\n",
      "   macro avg       0.74      0.68      0.70      3523\n",
      "weighted avg       0.77      0.78      0.77      3523\n",
      "\n"
     ]
    }
   ],
   "source": [
    "# Define the parameter grid for hyperparameter tuning\n",
    "param_grid_rf = {'n_estimators': [100, 200], 'max_depth': [3, 5, 7, 10]}\n",
    "\n",
    "# Initialize GridSearchCV with the random forest classifier, parameter grid, 5-fold cross-validation, and accuracy scoring\n",
    "grid_search_rf = GridSearchCV(rf_model, param_grid_rf, cv=5, scoring='accuracy')\n",
    "\n",
    "# Fit the GridSearchCV to the training data\n",
    "grid_search_rf.fit(x_train, y_train)\n",
    "\n",
    "# Get the best estimator (model) from the grid search\n",
    "best_rf_model = grid_search_rf.best_estimator_\n",
    "\n",
    "# Predict the test data using the best model\n",
    "rf_predictions_best = best_rf_model.predict(x_test)\n",
    "\n",
    "# Calculate the accuracy of the best model on the test data\n",
    "best_rf_accuracy = accuracy_score(y_test, rf_predictions_best)\n",
    "\n",
    "# Print the best accuracy score\n",
    "print(f\"Best Random Forest Accuracy: {best_rf_accuracy}\")\n",
    "\n",
    "# Print the classification report for the best model's predictions\n",
    "print(classification_report(y_test, rf_predictions_best))"
   ]
  },
  {
   "cell_type": "markdown",
   "id": "822741d7-bfee-4192-aab0-859434c4306e",
   "metadata": {},
   "source": [
    "#### ROC Curve"
   ]
  },
  {
   "cell_type": "code",
   "execution_count": 72,
   "id": "c4ac5b47-6b36-48de-a261-00e35133c9aa",
   "metadata": {},
   "outputs": [
    {
     "data": {
      "image/png": "[encoded data removed]",
      "text/plain": [
       "<Figure size 600x400 with 1 Axes>"
      ]
     },
     "metadata": {},
     "output_type": "display_data"
    }
   ],
   "source": [
    "from sklearn.metrics import roc_curve, roc_auc_score\n",
    "\n",
    "# Assuming rf_prob and y_test are already defined\n",
    "# Predict the probabilities for the positive class (class 1) using the best model\n",
    "rf_prob = best_rf_model.predict_proba(x_test)[:, 1]\n",
    "\n",
    "# Compute the false positive rate (fpr) and true positive rate (tpr) for the ROC curve\n",
    "rf_fpr, rf_tpr, _ = roc_curve(y_test, rf_prob)\n",
    "\n",
    "# Calculate the area under the ROC curve (AUC)\n",
    "rf_roc_auc = roc_auc_score(y_test, rf_prob)\n",
    "plt.figure(figsize=(6, 4))\n",
    "\n",
    "# Plot the ROC curve with fpr on the x-axis and tpr on the y-axis, and label it with the AUC score\n",
    "plt.plot(rf_fpr, rf_tpr, label=f'Random Forest (AUC = {rf_roc_auc:.2f})')\n",
    "\n",
    "# Plot configuration\n",
    "plt.plot([0, 1], [0, 1], 'k--')\n",
    "plt.xlim([0.0, 1.0])\n",
    "plt.ylim([0.0, 1.05])\n",
    "plt.xlabel('False Positive Rate')\n",
    "plt.ylabel('True Positive Rate')\n",
    "plt.title('Receiver Operating Characteristic (ROC) Curve')\n",
    "plt.legend(loc='lower right')\n",
    "plt.show()"
   ]
  },
  {
   "cell_type": "code",
   "execution_count": null,
   "id": "3096eba6-dac4-403d-b7ce-1a77b368d447",
   "metadata": {},
   "outputs": [],
   "source": []
  }
 ],
 "metadata": {
  "kernelspec": {
   "display_name": "Python 3 (ipykernel)",
   "language": "python",
   "name": "python3"
  },
  "language_info": {
   "codemirror_mode": {
    "name": "ipython",
    "version": 3
   },
   "file_extension": ".py",
   "mimetype": "text/x-python",
   "name": "python",
   "nbconvert_exporter": "python",
   "pygments_lexer": "ipython3",
   "version": "3.11.7"
  }
 },
 "nbformat": 4,
 "nbformat_minor": 5
}
